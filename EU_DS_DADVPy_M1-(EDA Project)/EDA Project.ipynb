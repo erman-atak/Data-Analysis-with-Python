{
 "metadata": {
  "language_info": {
   "codemirror_mode": {
    "name": "ipython",
    "version": 3
   },
   "file_extension": ".py",
   "mimetype": "text/x-python",
   "name": "python",
   "nbconvert_exporter": "python",
   "pygments_lexer": "ipython3",
   "version": "3.8.3-final"
  },
  "orig_nbformat": 2,
  "kernelspec": {
   "name": "python_defaultSpec_1599574368075",
   "display_name": "Python 3.8.3 32-bit"
  }
 },
 "nbformat": 4,
 "nbformat_minor": 2,
 "cells": [
  {
   "cell_type": "code",
   "execution_count": 6,
   "metadata": {},
   "outputs": [],
   "source": [
    "import pandas as pd"
   ]
  },
  {
   "cell_type": "code",
   "execution_count": 5,
   "metadata": {},
   "outputs": [
    {
     "output_type": "execute_result",
     "data": {
      "text/plain": "'c:\\\\Users\\\\John\\\\Desktop\\\\Clarusway\\\\01.Data Analysis with Python\\\\EU_DS_DADVPy_M1-(EDA Project)'"
     },
     "metadata": {},
     "execution_count": 5
    }
   ],
   "source": [
    "pwd"
   ]
  },
  {
   "cell_type": "code",
   "execution_count": 8,
   "metadata": {},
   "outputs": [],
   "source": [
    "df = pd.read_json('scout_car.json', lines=True)"
   ]
  },
  {
   "cell_type": "code",
   "execution_count": 10,
   "metadata": {},
   "outputs": [
    {
     "output_type": "execute_result",
     "data": {
      "text/plain": "                                                     url      make_model  \\\n0      https://www.autoscout24.com//offers/audi-a1-sp...         Audi A1   \n1      https://www.autoscout24.com//offers/audi-a1-1-...         Audi A1   \n2      https://www.autoscout24.com//offers/audi-a1-sp...         Audi A1   \n3      https://www.autoscout24.com//offers/audi-a1-1-...         Audi A1   \n4      https://www.autoscout24.com//offers/audi-a1-sp...         Audi A1   \n...                                                  ...             ...   \n15914  https://www.autoscout24.com//offers/renault-es...  Renault Espace   \n15915  https://www.autoscout24.com//offers/renault-es...  Renault Espace   \n15916  https://www.autoscout24.com//offers/renault-es...  Renault Espace   \n15917  https://www.autoscout24.com//offers/renault-es...  Renault Espace   \n15918  https://www.autoscout24.com//offers/renault-es...  Renault Espace   \n\n                                       short_description body_type  price  \\\n0            Sportback 1.4 TDI S-tronic Xenon Navi Klima    Sedans  15770   \n1                                         1.8 TFSI sport    Sedans  14500   \n2      Sportback 1.6 TDI S tronic Einparkhilfe plus+m...    Sedans  14640   \n3                                1.4 TDi Design S tronic    Sedans  14500   \n4      Sportback 1.4 TDI S-Tronic S-Line Ext. admired...    Sedans  16790   \n...                                                  ...       ...    ...   \n15914              Blue dCi 200CV EDC Executive 4Control       Van  39950   \n15915                TCe 225 EDC GPF LIM Deluxe Pano,RFK       Van  39885   \n15916  Blue dCi 200 EDC Initiale Paris Leder LED Navi...       Van  39875   \n15917  Blue dCi 200CV EDC Business , NUOVA DA IMMATRI...       Van  39700   \n15918        INITIALE PARIS TCe 225 EDC GPF NAVI SHZ AUX       Van  40999   \n\n                    vat         km registration         prev_owner  kW  ...  \\\n0        VAT deductible  56,013 km      01/2016  2 previous owners NaN  ...   \n1      Price negotiable  80,000 km      03/2017               None NaN  ...   \n2        VAT deductible  83,450 km      02/2016   1 previous owner NaN  ...   \n3                  None  73,000 km      08/2016   1 previous owner NaN  ...   \n4                  None  16,200 km      05/2016   1 previous owner NaN  ...   \n...                 ...        ...          ...                ...  ..  ...   \n15914    VAT deductible       - km          -/-               None NaN  ...   \n15915    VAT deductible   9,900 km      01/2019   1 previous owner NaN  ...   \n15916    VAT deductible      15 km      03/2019   1 previous owner NaN  ...   \n15917    VAT deductible      10 km      06/2019               None NaN  ...   \n15918    VAT deductible       - km      01/2019   1 previous owner NaN  ...   \n\n                                             description   Emission Label  \\\n0      [\\n, Sicherheit:,  , Deaktivierung für Beifahr...              NaN   \n1      [\\nLangstreckenfahrzeug daher die hohe Kilomet...  [\\n4 (Green)\\n]   \n2      [\\n, Fahrzeug-Nummer: AM-95365,  , Ehem. UPE 2...  [\\n4 (Green)\\n]   \n3      [\\nAudi A1: , - 1e eigenaar , - Perfecte staat...              NaN   \n4      [\\n, Technik & Sicherheit:, Xenon plus, Klimaa...              NaN   \n...                                                  ...              ...   \n15914  [\\nVettura visionabile nella sede in Via Roma ...              NaN   \n15915  [\\nDach: Panorama-Glas-Schiebedach, Lackierung...              NaN   \n15916  [\\n, Getriebe:,  Automatik, Technik:,  Bordcom...              NaN   \n15917  [\\nDEK:[2691331], Renault Espace Blue dCi 200C...              NaN   \n15918  [\\n, Sicherheit Airbags:,  , Seitenairbag,  , ...  [\\n4 (Green)\\n]   \n\n         Gears Country version Electricity consumption Last Service Date  \\\n0          NaN             NaN                     NaN               NaN   \n1      [\\n7\\n]             NaN                     NaN               NaN   \n2          NaN             NaN                     NaN               NaN   \n3      [\\n6\\n]             NaN                     NaN               NaN   \n4          NaN   [\\nGermany\\n]                     NaN               NaN   \n...        ...             ...                     ...               ...   \n15914  [\\n6\\n]             NaN                     NaN               NaN   \n15915  [\\n7\\n]   [\\nGermany\\n]                     NaN               NaN   \n15916  [\\n6\\n]   [\\nAustria\\n]                     NaN               NaN   \n15917  [\\n6\\n]             NaN                     NaN               NaN   \n15918      NaN   [\\nGermany\\n]                     NaN               NaN   \n\n      Other Fuel Types                   Availability  \\\n0                  NaN                            NaN   \n1                  NaN                            NaN   \n2                  NaN                            NaN   \n3                  NaN                            NaN   \n4                  NaN                            NaN   \n...                ...                            ...   \n15914              NaN                            NaN   \n15915     [[], [], []]    \\nin 5 days from ordering\\n   \n15916              NaN  \\nin 120 days from ordering\\n   \n15917              NaN                            NaN   \n15918              NaN                            NaN   \n\n      Last Timing Belt Service Date Available from  \n0                               NaN            NaN  \n1                               NaN            NaN  \n2                               NaN            NaN  \n3                               NaN            NaN  \n4                               NaN            NaN  \n...                             ...            ...  \n15914                           NaN            NaN  \n15915                           NaN            NaN  \n15916                           NaN            NaN  \n15917                           NaN            NaN  \n15918                           NaN            NaN  \n\n[15919 rows x 54 columns]",
      "text/html": "<div>\n<style scoped>\n    .dataframe tbody tr th:only-of-type {\n        vertical-align: middle;\n    }\n\n    .dataframe tbody tr th {\n        vertical-align: top;\n    }\n\n    .dataframe thead th {\n        text-align: right;\n    }\n</style>\n<table border=\"1\" class=\"dataframe\">\n  <thead>\n    <tr style=\"text-align: right;\">\n      <th></th>\n      <th>url</th>\n      <th>make_model</th>\n      <th>short_description</th>\n      <th>body_type</th>\n      <th>price</th>\n      <th>vat</th>\n      <th>km</th>\n      <th>registration</th>\n      <th>prev_owner</th>\n      <th>kW</th>\n      <th>...</th>\n      <th>description</th>\n      <th>Emission Label</th>\n      <th>Gears</th>\n      <th>Country version</th>\n      <th>Electricity consumption</th>\n      <th>Last Service Date</th>\n      <th>Other Fuel Types</th>\n      <th>Availability</th>\n      <th>Last Timing Belt Service Date</th>\n      <th>Available from</th>\n    </tr>\n  </thead>\n  <tbody>\n    <tr>\n      <th>0</th>\n      <td>https://www.autoscout24.com//offers/audi-a1-sp...</td>\n      <td>Audi A1</td>\n      <td>Sportback 1.4 TDI S-tronic Xenon Navi Klima</td>\n      <td>Sedans</td>\n      <td>15770</td>\n      <td>VAT deductible</td>\n      <td>56,013 km</td>\n      <td>01/2016</td>\n      <td>2 previous owners</td>\n      <td>NaN</td>\n      <td>...</td>\n      <td>[\\n, Sicherheit:,  , Deaktivierung für Beifahr...</td>\n      <td>NaN</td>\n      <td>NaN</td>\n      <td>NaN</td>\n      <td>NaN</td>\n      <td>NaN</td>\n      <td>NaN</td>\n      <td>NaN</td>\n      <td>NaN</td>\n      <td>NaN</td>\n    </tr>\n    <tr>\n      <th>1</th>\n      <td>https://www.autoscout24.com//offers/audi-a1-1-...</td>\n      <td>Audi A1</td>\n      <td>1.8 TFSI sport</td>\n      <td>Sedans</td>\n      <td>14500</td>\n      <td>Price negotiable</td>\n      <td>80,000 km</td>\n      <td>03/2017</td>\n      <td>None</td>\n      <td>NaN</td>\n      <td>...</td>\n      <td>[\\nLangstreckenfahrzeug daher die hohe Kilomet...</td>\n      <td>[\\n4 (Green)\\n]</td>\n      <td>[\\n7\\n]</td>\n      <td>NaN</td>\n      <td>NaN</td>\n      <td>NaN</td>\n      <td>NaN</td>\n      <td>NaN</td>\n      <td>NaN</td>\n      <td>NaN</td>\n    </tr>\n    <tr>\n      <th>2</th>\n      <td>https://www.autoscout24.com//offers/audi-a1-sp...</td>\n      <td>Audi A1</td>\n      <td>Sportback 1.6 TDI S tronic Einparkhilfe plus+m...</td>\n      <td>Sedans</td>\n      <td>14640</td>\n      <td>VAT deductible</td>\n      <td>83,450 km</td>\n      <td>02/2016</td>\n      <td>1 previous owner</td>\n      <td>NaN</td>\n      <td>...</td>\n      <td>[\\n, Fahrzeug-Nummer: AM-95365,  , Ehem. UPE 2...</td>\n      <td>[\\n4 (Green)\\n]</td>\n      <td>NaN</td>\n      <td>NaN</td>\n      <td>NaN</td>\n      <td>NaN</td>\n      <td>NaN</td>\n      <td>NaN</td>\n      <td>NaN</td>\n      <td>NaN</td>\n    </tr>\n    <tr>\n      <th>3</th>\n      <td>https://www.autoscout24.com//offers/audi-a1-1-...</td>\n      <td>Audi A1</td>\n      <td>1.4 TDi Design S tronic</td>\n      <td>Sedans</td>\n      <td>14500</td>\n      <td>None</td>\n      <td>73,000 km</td>\n      <td>08/2016</td>\n      <td>1 previous owner</td>\n      <td>NaN</td>\n      <td>...</td>\n      <td>[\\nAudi A1: , - 1e eigenaar , - Perfecte staat...</td>\n      <td>NaN</td>\n      <td>[\\n6\\n]</td>\n      <td>NaN</td>\n      <td>NaN</td>\n      <td>NaN</td>\n      <td>NaN</td>\n      <td>NaN</td>\n      <td>NaN</td>\n      <td>NaN</td>\n    </tr>\n    <tr>\n      <th>4</th>\n      <td>https://www.autoscout24.com//offers/audi-a1-sp...</td>\n      <td>Audi A1</td>\n      <td>Sportback 1.4 TDI S-Tronic S-Line Ext. admired...</td>\n      <td>Sedans</td>\n      <td>16790</td>\n      <td>None</td>\n      <td>16,200 km</td>\n      <td>05/2016</td>\n      <td>1 previous owner</td>\n      <td>NaN</td>\n      <td>...</td>\n      <td>[\\n, Technik &amp; Sicherheit:, Xenon plus, Klimaa...</td>\n      <td>NaN</td>\n      <td>NaN</td>\n      <td>[\\nGermany\\n]</td>\n      <td>NaN</td>\n      <td>NaN</td>\n      <td>NaN</td>\n      <td>NaN</td>\n      <td>NaN</td>\n      <td>NaN</td>\n    </tr>\n    <tr>\n      <th>...</th>\n      <td>...</td>\n      <td>...</td>\n      <td>...</td>\n      <td>...</td>\n      <td>...</td>\n      <td>...</td>\n      <td>...</td>\n      <td>...</td>\n      <td>...</td>\n      <td>...</td>\n      <td>...</td>\n      <td>...</td>\n      <td>...</td>\n      <td>...</td>\n      <td>...</td>\n      <td>...</td>\n      <td>...</td>\n      <td>...</td>\n      <td>...</td>\n      <td>...</td>\n      <td>...</td>\n    </tr>\n    <tr>\n      <th>15914</th>\n      <td>https://www.autoscout24.com//offers/renault-es...</td>\n      <td>Renault Espace</td>\n      <td>Blue dCi 200CV EDC Executive 4Control</td>\n      <td>Van</td>\n      <td>39950</td>\n      <td>VAT deductible</td>\n      <td>- km</td>\n      <td>-/-</td>\n      <td>None</td>\n      <td>NaN</td>\n      <td>...</td>\n      <td>[\\nVettura visionabile nella sede in Via Roma ...</td>\n      <td>NaN</td>\n      <td>[\\n6\\n]</td>\n      <td>NaN</td>\n      <td>NaN</td>\n      <td>NaN</td>\n      <td>NaN</td>\n      <td>NaN</td>\n      <td>NaN</td>\n      <td>NaN</td>\n    </tr>\n    <tr>\n      <th>15915</th>\n      <td>https://www.autoscout24.com//offers/renault-es...</td>\n      <td>Renault Espace</td>\n      <td>TCe 225 EDC GPF LIM Deluxe Pano,RFK</td>\n      <td>Van</td>\n      <td>39885</td>\n      <td>VAT deductible</td>\n      <td>9,900 km</td>\n      <td>01/2019</td>\n      <td>1 previous owner</td>\n      <td>NaN</td>\n      <td>...</td>\n      <td>[\\nDach: Panorama-Glas-Schiebedach, Lackierung...</td>\n      <td>NaN</td>\n      <td>[\\n7\\n]</td>\n      <td>[\\nGermany\\n]</td>\n      <td>NaN</td>\n      <td>NaN</td>\n      <td>[[], [], []]</td>\n      <td>\\nin 5 days from ordering\\n</td>\n      <td>NaN</td>\n      <td>NaN</td>\n    </tr>\n    <tr>\n      <th>15916</th>\n      <td>https://www.autoscout24.com//offers/renault-es...</td>\n      <td>Renault Espace</td>\n      <td>Blue dCi 200 EDC Initiale Paris Leder LED Navi...</td>\n      <td>Van</td>\n      <td>39875</td>\n      <td>VAT deductible</td>\n      <td>15 km</td>\n      <td>03/2019</td>\n      <td>1 previous owner</td>\n      <td>NaN</td>\n      <td>...</td>\n      <td>[\\n, Getriebe:,  Automatik, Technik:,  Bordcom...</td>\n      <td>NaN</td>\n      <td>[\\n6\\n]</td>\n      <td>[\\nAustria\\n]</td>\n      <td>NaN</td>\n      <td>NaN</td>\n      <td>NaN</td>\n      <td>\\nin 120 days from ordering\\n</td>\n      <td>NaN</td>\n      <td>NaN</td>\n    </tr>\n    <tr>\n      <th>15917</th>\n      <td>https://www.autoscout24.com//offers/renault-es...</td>\n      <td>Renault Espace</td>\n      <td>Blue dCi 200CV EDC Business , NUOVA DA IMMATRI...</td>\n      <td>Van</td>\n      <td>39700</td>\n      <td>VAT deductible</td>\n      <td>10 km</td>\n      <td>06/2019</td>\n      <td>None</td>\n      <td>NaN</td>\n      <td>...</td>\n      <td>[\\nDEK:[2691331], Renault Espace Blue dCi 200C...</td>\n      <td>NaN</td>\n      <td>[\\n6\\n]</td>\n      <td>NaN</td>\n      <td>NaN</td>\n      <td>NaN</td>\n      <td>NaN</td>\n      <td>NaN</td>\n      <td>NaN</td>\n      <td>NaN</td>\n    </tr>\n    <tr>\n      <th>15918</th>\n      <td>https://www.autoscout24.com//offers/renault-es...</td>\n      <td>Renault Espace</td>\n      <td>INITIALE PARIS TCe 225 EDC GPF NAVI SHZ AUX</td>\n      <td>Van</td>\n      <td>40999</td>\n      <td>VAT deductible</td>\n      <td>- km</td>\n      <td>01/2019</td>\n      <td>1 previous owner</td>\n      <td>NaN</td>\n      <td>...</td>\n      <td>[\\n, Sicherheit Airbags:,  , Seitenairbag,  , ...</td>\n      <td>[\\n4 (Green)\\n]</td>\n      <td>NaN</td>\n      <td>[\\nGermany\\n]</td>\n      <td>NaN</td>\n      <td>NaN</td>\n      <td>NaN</td>\n      <td>NaN</td>\n      <td>NaN</td>\n      <td>NaN</td>\n    </tr>\n  </tbody>\n</table>\n<p>15919 rows × 54 columns</p>\n</div>"
     },
     "metadata": {},
     "execution_count": 10
    }
   ],
   "source": [
    "df"
   ]
  }
 ]
}