{
 "cells": [
  {
   "cell_type": "markdown",
   "metadata": {},
   "source": [
    "___\n",
    "\n",
    "<p style=\"text-align: center;\"><img src=\"https://docs.google.com/uc?id=1lY0Uj5R04yMY3-ZppPWxqCr5pvBLYPnV\" class=\"img-fluid\" alt=\"CLRSWY\"></p>\n",
    "\n",
    "___"
   ]
  },
  {
   "cell_type": "markdown",
   "metadata": {},
   "source": [
    "<h1><p style=\"text-align: center;\">Data Analysis with Python <br>Project - 1</p><h1> - Traffic Police Stops <img src=\"https://docs.google.com/uc?id=17CPCwi3_VvzcS87TOsh4_U8eExOhL6Ki\" class=\"img-fluid\" alt=\"CLRSWY\" width=\"200\" height=\"100\"> "
   ]
  },
  {
   "cell_type": "markdown",
   "metadata": {},
   "source": [
    "Before beginning your analysis, it is critical that you first examine and clean the dataset, to make working with it a more efficient process. You will practice fixing data types, handling missing values, and dropping columns and rows while learning about the Stanford Open Policing Project dataset."
   ]
  },
  {
   "cell_type": "markdown",
   "metadata": {},
   "source": [
    "***"
   ]
  },
  {
   "cell_type": "markdown",
   "metadata": {},
   "source": [
    "## Examining the dataset"
   ]
  },
  {
   "cell_type": "markdown",
   "metadata": {},
   "source": [
    "You'll be analyzing a dataset of traffic stops in Rhode Island that was collected by the Stanford Open Policing Project."
   ]
  },
  {
   "cell_type": "markdown",
   "metadata": {},
   "source": [
    "Before beginning your analysis, it's important that you familiarize yourself with the dataset. You'll read the dataset into pandas, examine the first few rows, and then count the number of missing values."
   ]
  },
  {
   "cell_type": "markdown",
   "metadata": {},
   "source": [
    "**INSTRUCTIONS**\n",
    "\n",
    "*   Import pandas using the alias ``pd``.\n",
    "*   Read the file police.csv into a DataFrame named ``ri``\n",
    "*   Examine the first 5 rows of the ``DataFrame`` (known as the ``\"head\"``).\n",
    "*   Count the number of missing values in each column: Use ``.isnull()`` to check which ``DataFrame`` elements are missing, and then take the ``.sum()`` to count the number of ``True`` values in each column."
   ]
  },
  {
   "cell_type": "code",
   "execution_count": 2,
   "metadata": {},
   "outputs": [],
   "source": [
    "import pandas as pd"
   ]
  },
  {
   "cell_type": "code",
   "execution_count": 3,
   "metadata": {},
   "outputs": [],
   "source": [
    "ri = pd.read_csv('police.csv', low_memory=True)"
   ]
  },
  {
   "cell_type": "markdown",
   "metadata": {},
   "source": [
    "***"
   ]
  },
  {
   "cell_type": "code",
   "execution_count": 5,
   "metadata": {},
   "outputs": [
    {
     "output_type": "execute_result",
     "data": {
      "text/plain": "              id state   stop_date stop_time location_raw  county_name  \\\n0  RI-2005-00001    RI  2005-01-02     01:55      Zone K1          NaN   \n1  RI-2005-00002    RI  2005-01-02     20:30      Zone X4          NaN   \n2  RI-2005-00003    RI  2005-01-04     11:30      Zone X1          NaN   \n3  RI-2005-00004    RI  2005-01-04     12:55      Zone X4          NaN   \n4  RI-2005-00005    RI  2005-01-06     01:30      Zone X4          NaN   \n\n   county_fips  fine_grained_location police_department driver_gender  ...  \\\n0          NaN                    NaN               600             M  ...   \n1          NaN                    NaN               500             M  ...   \n2          NaN                    NaN                 0           NaN  ...   \n3          NaN                    NaN               500             M  ...   \n4          NaN                    NaN               500             M  ...   \n\n   search_conducted  search_type_raw search_type contraband_found  \\\n0             False              NaN         NaN            False   \n1             False              NaN         NaN            False   \n2             False              NaN         NaN            False   \n3             False              NaN         NaN            False   \n4             False              NaN         NaN            False   \n\n  stop_outcome is_arrested stop_duration out_of_state drugs_related_stop  \\\n0     Citation       False      0-15 Min        False              False   \n1     Citation       False     16-30 Min        False              False   \n2          NaN         NaN           NaN          NaN              False   \n3     Citation       False      0-15 Min        False              False   \n4     Citation       False      0-15 Min        False              False   \n\n   district  \n0   Zone K1  \n1   Zone X4  \n2   Zone X1  \n3   Zone X4  \n4   Zone X4  \n\n[5 rows x 26 columns]",
      "text/html": "<div>\n<style scoped>\n    .dataframe tbody tr th:only-of-type {\n        vertical-align: middle;\n    }\n\n    .dataframe tbody tr th {\n        vertical-align: top;\n    }\n\n    .dataframe thead th {\n        text-align: right;\n    }\n</style>\n<table border=\"1\" class=\"dataframe\">\n  <thead>\n    <tr style=\"text-align: right;\">\n      <th></th>\n      <th>id</th>\n      <th>state</th>\n      <th>stop_date</th>\n      <th>stop_time</th>\n      <th>location_raw</th>\n      <th>county_name</th>\n      <th>county_fips</th>\n      <th>fine_grained_location</th>\n      <th>police_department</th>\n      <th>driver_gender</th>\n      <th>...</th>\n      <th>search_conducted</th>\n      <th>search_type_raw</th>\n      <th>search_type</th>\n      <th>contraband_found</th>\n      <th>stop_outcome</th>\n      <th>is_arrested</th>\n      <th>stop_duration</th>\n      <th>out_of_state</th>\n      <th>drugs_related_stop</th>\n      <th>district</th>\n    </tr>\n  </thead>\n  <tbody>\n    <tr>\n      <th>0</th>\n      <td>RI-2005-00001</td>\n      <td>RI</td>\n      <td>2005-01-02</td>\n      <td>01:55</td>\n      <td>Zone K1</td>\n      <td>NaN</td>\n      <td>NaN</td>\n      <td>NaN</td>\n      <td>600</td>\n      <td>M</td>\n      <td>...</td>\n      <td>False</td>\n      <td>NaN</td>\n      <td>NaN</td>\n      <td>False</td>\n      <td>Citation</td>\n      <td>False</td>\n      <td>0-15 Min</td>\n      <td>False</td>\n      <td>False</td>\n      <td>Zone K1</td>\n    </tr>\n    <tr>\n      <th>1</th>\n      <td>RI-2005-00002</td>\n      <td>RI</td>\n      <td>2005-01-02</td>\n      <td>20:30</td>\n      <td>Zone X4</td>\n      <td>NaN</td>\n      <td>NaN</td>\n      <td>NaN</td>\n      <td>500</td>\n      <td>M</td>\n      <td>...</td>\n      <td>False</td>\n      <td>NaN</td>\n      <td>NaN</td>\n      <td>False</td>\n      <td>Citation</td>\n      <td>False</td>\n      <td>16-30 Min</td>\n      <td>False</td>\n      <td>False</td>\n      <td>Zone X4</td>\n    </tr>\n    <tr>\n      <th>2</th>\n      <td>RI-2005-00003</td>\n      <td>RI</td>\n      <td>2005-01-04</td>\n      <td>11:30</td>\n      <td>Zone X1</td>\n      <td>NaN</td>\n      <td>NaN</td>\n      <td>NaN</td>\n      <td>0</td>\n      <td>NaN</td>\n      <td>...</td>\n      <td>False</td>\n      <td>NaN</td>\n      <td>NaN</td>\n      <td>False</td>\n      <td>NaN</td>\n      <td>NaN</td>\n      <td>NaN</td>\n      <td>NaN</td>\n      <td>False</td>\n      <td>Zone X1</td>\n    </tr>\n    <tr>\n      <th>3</th>\n      <td>RI-2005-00004</td>\n      <td>RI</td>\n      <td>2005-01-04</td>\n      <td>12:55</td>\n      <td>Zone X4</td>\n      <td>NaN</td>\n      <td>NaN</td>\n      <td>NaN</td>\n      <td>500</td>\n      <td>M</td>\n      <td>...</td>\n      <td>False</td>\n      <td>NaN</td>\n      <td>NaN</td>\n      <td>False</td>\n      <td>Citation</td>\n      <td>False</td>\n      <td>0-15 Min</td>\n      <td>False</td>\n      <td>False</td>\n      <td>Zone X4</td>\n    </tr>\n    <tr>\n      <th>4</th>\n      <td>RI-2005-00005</td>\n      <td>RI</td>\n      <td>2005-01-06</td>\n      <td>01:30</td>\n      <td>Zone X4</td>\n      <td>NaN</td>\n      <td>NaN</td>\n      <td>NaN</td>\n      <td>500</td>\n      <td>M</td>\n      <td>...</td>\n      <td>False</td>\n      <td>NaN</td>\n      <td>NaN</td>\n      <td>False</td>\n      <td>Citation</td>\n      <td>False</td>\n      <td>0-15 Min</td>\n      <td>False</td>\n      <td>False</td>\n      <td>Zone X4</td>\n    </tr>\n  </tbody>\n</table>\n<p>5 rows × 26 columns</p>\n</div>"
     },
     "metadata": {},
     "execution_count": 5
    }
   ],
   "source": [
    "ri.head()"
   ]
  },
  {
   "cell_type": "markdown",
   "metadata": {},
   "source": [
    "## Dropping columns"
   ]
  },
  {
   "cell_type": "code",
   "execution_count": 7,
   "metadata": {},
   "outputs": [
    {
     "output_type": "execute_result",
     "data": {
      "text/plain": "id                            0\nstate                         0\nstop_date                    10\nstop_time                    10\nlocation_raw                  0\ncounty_name              509681\ncounty_fips              509681\nfine_grained_location    509681\npolice_department            10\ndriver_gender             29097\ndriver_age_raw            29049\ndriver_age                30695\ndriver_race_raw           29073\ndriver_race               29073\nviolation_raw             29073\nviolation                 29073\nsearch_conducted             10\nsearch_type_raw          491919\nsearch_type              491919\ncontraband_found              0\nstop_outcome              29073\nis_arrested               29073\nstop_duration             29073\nout_of_state              29881\ndrugs_related_stop            0\ndistrict                      0\nstop_datetime                10\ndtype: int64"
     },
     "metadata": {},
     "execution_count": 7
    }
   ],
   "source": [
    "ri.isnull().sum()"
   ]
  },
  {
   "cell_type": "markdown",
   "metadata": {},
   "source": [
    "Often, a DataFrame will contain columns that are not useful to your analysis. Such columns should be dropped from the ``DataFrame``, to make it easier for you to focus on the remaining columns.\n",
    "\n",
    "You'll drop the ``county_name`` column because it only contains missing values, and you'll drop the ``state`` column because all of the traffic stops took place in one state (Rhode Island). Thus, these columns can be dropped because they contain no useful information."
   ]
  },
  {
   "cell_type": "markdown",
   "metadata": {},
   "source": [
    "**INSTRUCTIONS**\n",
    "\n",
    "*   Examine the ``DataFrame``'s shape to find out the number of rows and columns.\n",
    "\n",
    "*   Drop the columns that almost consist of missing values. \n",
    "\n",
    "*   Examine the ``.shape`` again to verify that there are now two fewer columns."
   ]
  },
  {
   "cell_type": "code",
   "execution_count": 10,
   "metadata": {},
   "outputs": [
    {
     "output_type": "execute_result",
     "data": {
      "text/plain": "(509681, 27)"
     },
     "metadata": {},
     "execution_count": 10
    }
   ],
   "source": [
    "ri.shape"
   ]
  },
  {
   "cell_type": "markdown",
   "metadata": {},
   "source": [
    "***"
   ]
  },
  {
   "cell_type": "code",
   "execution_count": 12,
   "metadata": {},
   "outputs": [],
   "source": [
    "ri.drop(axis=1, labels = ['county_fips', 'fine_grained_location', 'search_type_raw', 'search_type'], inplace=True)"
   ]
  },
  {
   "cell_type": "code",
   "execution_count": 14,
   "metadata": {},
   "outputs": [
    {
     "output_type": "execute_result",
     "data": {
      "text/plain": "(509681, 22)"
     },
     "metadata": {},
     "execution_count": 14
    }
   ],
   "source": [
    "ri.shape"
   ]
  },
  {
   "cell_type": "markdown",
   "metadata": {},
   "source": [
    "## Dropping rows"
   ]
  },
  {
   "cell_type": "markdown",
   "metadata": {},
   "source": [
    "When you know that a specific column will be critical to your analysis, and only a small fraction of rows are missing a value in that column, it often makes sense to remove those rows from the dataset.\n",
    "\n",
    "During this course, the ``driver_gender`` column will be critical to many of your analyses. Because only a small fraction of rows are missing ``driver_gender``, we'll drop those rows from the dataset."
   ]
  },
  {
   "cell_type": "markdown",
   "metadata": {},
   "source": [
    "**INSTRUCTIONS**\n",
    "\n",
    "*   Count the number of missing values in each column.\n",
    "\n",
    "*   Drop all rows that are missing ``driver_gender`` by passing the column name to the subset parameter of ``.dropna()``.\n",
    "*   Count the number of missing values in each column again, to verify that none of the remaining rows are missing ``driver_gender``.\n",
    "*   Examine the ``DataFrame``'s ``.shape`` to see how many rows and columns remain."
   ]
  },
  {
   "cell_type": "code",
   "execution_count": 15,
   "metadata": {},
   "outputs": [
    {
     "output_type": "execute_result",
     "data": {
      "text/plain": "id                         0\nstate                      0\nstop_date                 10\nstop_time                 10\nlocation_raw               0\ncounty_name           509681\npolice_department         10\ndriver_gender          29097\ndriver_age_raw         29049\ndriver_age             30695\ndriver_race_raw        29073\ndriver_race            29073\nviolation_raw          29073\nviolation              29073\nsearch_conducted          10\ncontraband_found           0\nstop_outcome           29073\nis_arrested            29073\nstop_duration          29073\nout_of_state           29881\ndrugs_related_stop         0\ndistrict                   0\ndtype: int64"
     },
     "metadata": {},
     "execution_count": 15
    }
   ],
   "source": [
    "ri.isnull().sum()"
   ]
  },
  {
   "cell_type": "code",
   "execution_count": 16,
   "metadata": {},
   "outputs": [],
   "source": [
    "ri.dropna(subset=['driver_gender'], inplace=True)"
   ]
  },
  {
   "cell_type": "code",
   "execution_count": 17,
   "metadata": {},
   "outputs": [
    {
     "output_type": "execute_result",
     "data": {
      "text/plain": "id                         0\nstate                      0\nstop_date                  0\nstop_time                  0\nlocation_raw               0\ncounty_name           480584\npolice_department          0\ndriver_gender              0\ndriver_age_raw             1\ndriver_age              1638\ndriver_race_raw            0\ndriver_race                0\nviolation_raw              0\nviolation                  0\nsearch_conducted           0\ncontraband_found           0\nstop_outcome               0\nis_arrested                0\nstop_duration              0\nout_of_state             808\ndrugs_related_stop         0\ndistrict                   0\ndtype: int64"
     },
     "metadata": {},
     "execution_count": 17
    }
   ],
   "source": [
    "ri.isnull().sum()"
   ]
  },
  {
   "cell_type": "code",
   "execution_count": 18,
   "metadata": {},
   "outputs": [
    {
     "output_type": "execute_result",
     "data": {
      "text/plain": "(480584, 22)"
     },
     "metadata": {},
     "execution_count": 18
    }
   ],
   "source": [
    "ri.shape"
   ]
  },
  {
   "cell_type": "markdown",
   "metadata": {},
   "source": [
    "***"
   ]
  },
  {
   "cell_type": "markdown",
   "metadata": {},
   "source": [
    "## Fixing a data type"
   ]
  },
  {
   "cell_type": "markdown",
   "metadata": {},
   "source": [
    "We know that the ``is_arrested`` column currently has the ``object`` data type. In this exercise, we'll change the data type to ``bool``, which is the most suitable type for a column containing ``True`` and ``False`` values.\n",
    "\n",
    "Fixing the data type will enable us to use mathematical operations on the ``is_arrested`` column that would not be possible otherwise."
   ]
  },
  {
   "cell_type": "markdown",
   "metadata": {},
   "source": [
    "**INSTRUCTIONS**\n",
    "\n",
    "*   Examine the head of the ``is_arrested`` column to verify that it contains ``True`` and ``False`` values.\n",
    "*   Check the current data type of ``is_arrested``.\n",
    "*   Use the ``.astype()`` method to convert ``is_arrested`` to a ``bool`` column.\n",
    "*   Check the new data type of ``is_arrested``, to confirm that it is now a ``bool`` column."
   ]
  },
  {
   "cell_type": "code",
   "execution_count": 19,
   "metadata": {},
   "outputs": [
    {
     "output_type": "execute_result",
     "data": {
      "text/plain": "stop_datetime\n2005-01-02 01:55    False\n2005-01-02 20:30    False\n2005-01-04 12:55    False\n2005-01-06 01:30    False\n2005-01-12 08:05    False\nName: is_arrested, dtype: object"
     },
     "metadata": {},
     "execution_count": 19
    }
   ],
   "source": [
    "ri['is_arrested'].head()"
   ]
  },
  {
   "cell_type": "code",
   "execution_count": 20,
   "metadata": {},
   "outputs": [
    {
     "output_type": "execute_result",
     "data": {
      "text/plain": "dtype('O')"
     },
     "metadata": {},
     "execution_count": 20
    }
   ],
   "source": [
    "ri.dtypes['is_arrested']"
   ]
  },
  {
   "cell_type": "code",
   "execution_count": 21,
   "metadata": {},
   "outputs": [],
   "source": [
    "ri['is_arrested'] = ri['is_arrested'].astype(bool)"
   ]
  },
  {
   "cell_type": "code",
   "execution_count": 22,
   "metadata": {},
   "outputs": [
    {
     "output_type": "execute_result",
     "data": {
      "text/plain": "dtype('bool')"
     },
     "metadata": {},
     "execution_count": 22
    }
   ],
   "source": [
    "ri.dtypes['is_arrested']"
   ]
  },
  {
   "cell_type": "markdown",
   "metadata": {},
   "source": [
    "***"
   ]
  },
  {
   "cell_type": "markdown",
   "metadata": {},
   "source": [
    "## Combining object columns"
   ]
  },
  {
   "cell_type": "markdown",
   "metadata": {},
   "source": [
    "Currently, the date and time of each traffic stop are stored in separate object columns: ``stop_date`` and ``stop_time``.\n",
    "\n",
    "You'll combine these two columns into a single column, and then convert it to ``datetime`` format. This will enable convenient date-based attributes that we'll use later in the course."
   ]
  },
  {
   "cell_type": "markdown",
   "metadata": {},
   "source": [
    "**INSTRUCTIONS**\n",
    "\n",
    "*    Use a string method to concatenate ``stop_date`` and ``stop_time`` (separated by a space), and store the result in ``combined``.\n",
    "*    Convert ``combined`` to ``datetime`` format, and store the result in a new column named ``stop_datetime``.\n",
    "*    Examine the ``DataFrame`` ``.dtypes`` to confirm that ``stop_datetime`` is a datetime column."
   ]
  },
  {
   "cell_type": "code",
   "execution_count": 23,
   "metadata": {},
   "outputs": [
    {
     "output_type": "error",
     "ename": "TypeError",
     "evalue": "to_datetime() got an unexpected keyword argument 'inplace'",
     "traceback": [
      "\u001b[1;31m---------------------------------------------------------------------------\u001b[0m",
      "\u001b[1;31mTypeError\u001b[0m                                 Traceback (most recent call last)",
      "\u001b[1;32m<ipython-input-23-acef11859532>\u001b[0m in \u001b[0;36m<module>\u001b[1;34m\u001b[0m\n\u001b[0;32m      1\u001b[0m \u001b[0mcombined\u001b[0m \u001b[1;33m=\u001b[0m \u001b[0mri\u001b[0m\u001b[1;33m[\u001b[0m\u001b[1;34m'stop_date'\u001b[0m\u001b[1;33m]\u001b[0m \u001b[1;33m+\u001b[0m \u001b[1;34m' '\u001b[0m \u001b[1;33m+\u001b[0m \u001b[0mri\u001b[0m\u001b[1;33m[\u001b[0m\u001b[1;34m'stop_time'\u001b[0m\u001b[1;33m]\u001b[0m\u001b[1;33m\u001b[0m\u001b[1;33m\u001b[0m\u001b[0m\n\u001b[1;32m----> 2\u001b[1;33m \u001b[0mpd\u001b[0m\u001b[1;33m.\u001b[0m\u001b[0mto_datetime\u001b[0m\u001b[1;33m(\u001b[0m\u001b[0mcombined\u001b[0m\u001b[1;33m,\u001b[0m \u001b[0minplace\u001b[0m\u001b[1;33m=\u001b[0m\u001b[1;32mTrue\u001b[0m\u001b[1;33m)\u001b[0m\u001b[1;33m\u001b[0m\u001b[1;33m\u001b[0m\u001b[0m\n\u001b[0m",
      "\u001b[1;31mTypeError\u001b[0m: to_datetime() got an unexpected keyword argument 'inplace'"
     ]
    }
   ],
   "source": [
    "combined = ri['stop_date'] + ' ' + ri['stop_time']\n",
    "pd.to_datetime(combined)"
   ]
  },
  {
   "cell_type": "code",
   "execution_count": 24,
   "metadata": {},
   "outputs": [],
   "source": [
    "ri['stop_datetime'] = pd.to_datetime(combined)"
   ]
  },
  {
   "cell_type": "code",
   "execution_count": 25,
   "metadata": {},
   "outputs": [
    {
     "output_type": "execute_result",
     "data": {
      "text/plain": "id                            object\nstate                         object\nstop_date                     object\nstop_time                     object\nlocation_raw                  object\ncounty_name                  float64\npolice_department             object\ndriver_gender                 object\ndriver_age_raw               float64\ndriver_age                   float64\ndriver_race_raw               object\ndriver_race                   object\nviolation_raw                 object\nviolation                     object\nsearch_conducted              object\ncontraband_found                bool\nstop_outcome                  object\nis_arrested                     bool\nstop_duration                 object\nout_of_state                  object\ndrugs_related_stop              bool\ndistrict                      object\nstop_datetime         datetime64[ns]\ndtype: object"
     },
     "metadata": {},
     "execution_count": 25
    }
   ],
   "source": [
    "ri.dtypes"
   ]
  },
  {
   "cell_type": "markdown",
   "metadata": {},
   "source": [
    "The last step that you'll take in this chapter is to set the ``stop_datetime`` column as the ``DataFrame``'s index. By replacing the default index with a ``DatetimeIndex``, you'll make it easier to analyze the dataset by date and time, which will come in handy later in the course."
   ]
  },
  {
   "cell_type": "markdown",
   "metadata": {},
   "source": [
    "**INSTRUCTIONS**\n",
    "\n",
    "*   Set ``stop_datetime`` as the ``DataFrame`` index.\n",
    "*   Examine the index to verify that it is a ``DatetimeIndex``.\n",
    "*   Examine the ``DataFrame`` columns to confirm that ``stop_datetime`` is no longer one of the columns."
   ]
  },
  {
   "cell_type": "code",
   "execution_count": 26,
   "metadata": {},
   "outputs": [],
   "source": [
    "ri.set_index('stop_datetime', inplace = True)"
   ]
  },
  {
   "cell_type": "code",
   "execution_count": 13,
   "metadata": {},
   "outputs": [
    {
     "output_type": "execute_result",
     "data": {
      "text/plain": "                             id state   stop_date stop_time location_raw  \\\nstop_datetime                                                              \n2005-01-02 01:55  RI-2005-00001    RI  2005-01-02     01:55      Zone K1   \n2005-01-02 20:30  RI-2005-00002    RI  2005-01-02     20:30      Zone X4   \n2005-01-04 11:30  RI-2005-00003    RI  2005-01-04     11:30      Zone X1   \n2005-01-04 12:55  RI-2005-00004    RI  2005-01-04     12:55      Zone X4   \n2005-01-06 01:30  RI-2005-00005    RI  2005-01-06     01:30      Zone X4   \n...                         ...   ...         ...       ...          ...   \nNaN                    RI-NA-06    RI         NaN       NaN      Zone NA   \nNaN                    RI-NA-07    RI         NaN       NaN      Zone NA   \nNaN                    RI-NA-08    RI         NaN       NaN      Zone NA   \nNaN                    RI-NA-09    RI         NaN       NaN      Zone NA   \nNaN                    RI-NA-10    RI         NaN       NaN      Zone NA   \n\n                  county_name police_department driver_gender  driver_age_raw  \\\nstop_datetime                                                                   \n2005-01-02 01:55          NaN               600             M          1985.0   \n2005-01-02 20:30          NaN               500             M          1987.0   \n2005-01-04 11:30          NaN                 0           NaN             NaN   \n2005-01-04 12:55          NaN               500             M          1986.0   \n2005-01-06 01:30          NaN               500             M          1978.0   \n...                       ...               ...           ...             ...   \nNaN                       NaN               NaN           NaN             NaN   \nNaN                       NaN               NaN           NaN             NaN   \nNaN                       NaN               NaN           NaN             NaN   \nNaN                       NaN               NaN           NaN             NaN   \nNaN                       NaN               NaN           NaN             NaN   \n\n                  driver_age  ...                   violation_raw  violation  \\\nstop_datetime                 ...                                              \n2005-01-02 01:55        20.0  ...                        Speeding   Speeding   \n2005-01-02 20:30        18.0  ...                        Speeding   Speeding   \n2005-01-04 11:30         NaN  ...                             NaN        NaN   \n2005-01-04 12:55        19.0  ...  Equipment/Inspection Violation  Equipment   \n2005-01-06 01:30        27.0  ...  Equipment/Inspection Violation  Equipment   \n...                      ...  ...                             ...        ...   \nNaN                      NaN  ...                             NaN        NaN   \nNaN                      NaN  ...                             NaN        NaN   \nNaN                      NaN  ...                             NaN        NaN   \nNaN                      NaN  ...                             NaN        NaN   \nNaN                      NaN  ...                             NaN        NaN   \n\n                 search_conducted contraband_found stop_outcome  is_arrested  \\\nstop_datetime                                                                  \n2005-01-02 01:55            False            False     Citation        False   \n2005-01-02 20:30            False            False     Citation        False   \n2005-01-04 11:30            False            False          NaN          NaN   \n2005-01-04 12:55            False            False     Citation        False   \n2005-01-06 01:30            False            False     Citation        False   \n...                           ...              ...          ...          ...   \nNaN                           NaN            False          NaN          NaN   \nNaN                           NaN            False          NaN          NaN   \nNaN                           NaN            False          NaN          NaN   \nNaN                           NaN            False          NaN          NaN   \nNaN                           NaN            False          NaN          NaN   \n\n                 stop_duration out_of_state drugs_related_stop district  \nstop_datetime                                                            \n2005-01-02 01:55      0-15 Min        False              False  Zone K1  \n2005-01-02 20:30     16-30 Min        False              False  Zone X4  \n2005-01-04 11:30           NaN          NaN              False  Zone X1  \n2005-01-04 12:55      0-15 Min        False              False  Zone X4  \n2005-01-06 01:30      0-15 Min        False              False  Zone X4  \n...                        ...          ...                ...      ...  \nNaN                        NaN          NaN              False  Zone NA  \nNaN                        NaN          NaN              False  Zone NA  \nNaN                        NaN          NaN              False  Zone NA  \nNaN                        NaN          NaN              False  Zone NA  \nNaN                        NaN          NaN              False  Zone NA  \n\n[509681 rows x 22 columns]",
      "text/html": "<div>\n<style scoped>\n    .dataframe tbody tr th:only-of-type {\n        vertical-align: middle;\n    }\n\n    .dataframe tbody tr th {\n        vertical-align: top;\n    }\n\n    .dataframe thead th {\n        text-align: right;\n    }\n</style>\n<table border=\"1\" class=\"dataframe\">\n  <thead>\n    <tr style=\"text-align: right;\">\n      <th></th>\n      <th>id</th>\n      <th>state</th>\n      <th>stop_date</th>\n      <th>stop_time</th>\n      <th>location_raw</th>\n      <th>county_name</th>\n      <th>police_department</th>\n      <th>driver_gender</th>\n      <th>driver_age_raw</th>\n      <th>driver_age</th>\n      <th>...</th>\n      <th>violation_raw</th>\n      <th>violation</th>\n      <th>search_conducted</th>\n      <th>contraband_found</th>\n      <th>stop_outcome</th>\n      <th>is_arrested</th>\n      <th>stop_duration</th>\n      <th>out_of_state</th>\n      <th>drugs_related_stop</th>\n      <th>district</th>\n    </tr>\n    <tr>\n      <th>stop_datetime</th>\n      <th></th>\n      <th></th>\n      <th></th>\n      <th></th>\n      <th></th>\n      <th></th>\n      <th></th>\n      <th></th>\n      <th></th>\n      <th></th>\n      <th></th>\n      <th></th>\n      <th></th>\n      <th></th>\n      <th></th>\n      <th></th>\n      <th></th>\n      <th></th>\n      <th></th>\n      <th></th>\n      <th></th>\n    </tr>\n  </thead>\n  <tbody>\n    <tr>\n      <th>2005-01-02 01:55</th>\n      <td>RI-2005-00001</td>\n      <td>RI</td>\n      <td>2005-01-02</td>\n      <td>01:55</td>\n      <td>Zone K1</td>\n      <td>NaN</td>\n      <td>600</td>\n      <td>M</td>\n      <td>1985.0</td>\n      <td>20.0</td>\n      <td>...</td>\n      <td>Speeding</td>\n      <td>Speeding</td>\n      <td>False</td>\n      <td>False</td>\n      <td>Citation</td>\n      <td>False</td>\n      <td>0-15 Min</td>\n      <td>False</td>\n      <td>False</td>\n      <td>Zone K1</td>\n    </tr>\n    <tr>\n      <th>2005-01-02 20:30</th>\n      <td>RI-2005-00002</td>\n      <td>RI</td>\n      <td>2005-01-02</td>\n      <td>20:30</td>\n      <td>Zone X4</td>\n      <td>NaN</td>\n      <td>500</td>\n      <td>M</td>\n      <td>1987.0</td>\n      <td>18.0</td>\n      <td>...</td>\n      <td>Speeding</td>\n      <td>Speeding</td>\n      <td>False</td>\n      <td>False</td>\n      <td>Citation</td>\n      <td>False</td>\n      <td>16-30 Min</td>\n      <td>False</td>\n      <td>False</td>\n      <td>Zone X4</td>\n    </tr>\n    <tr>\n      <th>2005-01-04 11:30</th>\n      <td>RI-2005-00003</td>\n      <td>RI</td>\n      <td>2005-01-04</td>\n      <td>11:30</td>\n      <td>Zone X1</td>\n      <td>NaN</td>\n      <td>0</td>\n      <td>NaN</td>\n      <td>NaN</td>\n      <td>NaN</td>\n      <td>...</td>\n      <td>NaN</td>\n      <td>NaN</td>\n      <td>False</td>\n      <td>False</td>\n      <td>NaN</td>\n      <td>NaN</td>\n      <td>NaN</td>\n      <td>NaN</td>\n      <td>False</td>\n      <td>Zone X1</td>\n    </tr>\n    <tr>\n      <th>2005-01-04 12:55</th>\n      <td>RI-2005-00004</td>\n      <td>RI</td>\n      <td>2005-01-04</td>\n      <td>12:55</td>\n      <td>Zone X4</td>\n      <td>NaN</td>\n      <td>500</td>\n      <td>M</td>\n      <td>1986.0</td>\n      <td>19.0</td>\n      <td>...</td>\n      <td>Equipment/Inspection Violation</td>\n      <td>Equipment</td>\n      <td>False</td>\n      <td>False</td>\n      <td>Citation</td>\n      <td>False</td>\n      <td>0-15 Min</td>\n      <td>False</td>\n      <td>False</td>\n      <td>Zone X4</td>\n    </tr>\n    <tr>\n      <th>2005-01-06 01:30</th>\n      <td>RI-2005-00005</td>\n      <td>RI</td>\n      <td>2005-01-06</td>\n      <td>01:30</td>\n      <td>Zone X4</td>\n      <td>NaN</td>\n      <td>500</td>\n      <td>M</td>\n      <td>1978.0</td>\n      <td>27.0</td>\n      <td>...</td>\n      <td>Equipment/Inspection Violation</td>\n      <td>Equipment</td>\n      <td>False</td>\n      <td>False</td>\n      <td>Citation</td>\n      <td>False</td>\n      <td>0-15 Min</td>\n      <td>False</td>\n      <td>False</td>\n      <td>Zone X4</td>\n    </tr>\n    <tr>\n      <th>...</th>\n      <td>...</td>\n      <td>...</td>\n      <td>...</td>\n      <td>...</td>\n      <td>...</td>\n      <td>...</td>\n      <td>...</td>\n      <td>...</td>\n      <td>...</td>\n      <td>...</td>\n      <td>...</td>\n      <td>...</td>\n      <td>...</td>\n      <td>...</td>\n      <td>...</td>\n      <td>...</td>\n      <td>...</td>\n      <td>...</td>\n      <td>...</td>\n      <td>...</td>\n      <td>...</td>\n    </tr>\n    <tr>\n      <th>NaN</th>\n      <td>RI-NA-06</td>\n      <td>RI</td>\n      <td>NaN</td>\n      <td>NaN</td>\n      <td>Zone NA</td>\n      <td>NaN</td>\n      <td>NaN</td>\n      <td>NaN</td>\n      <td>NaN</td>\n      <td>NaN</td>\n      <td>...</td>\n      <td>NaN</td>\n      <td>NaN</td>\n      <td>NaN</td>\n      <td>False</td>\n      <td>NaN</td>\n      <td>NaN</td>\n      <td>NaN</td>\n      <td>NaN</td>\n      <td>False</td>\n      <td>Zone NA</td>\n    </tr>\n    <tr>\n      <th>NaN</th>\n      <td>RI-NA-07</td>\n      <td>RI</td>\n      <td>NaN</td>\n      <td>NaN</td>\n      <td>Zone NA</td>\n      <td>NaN</td>\n      <td>NaN</td>\n      <td>NaN</td>\n      <td>NaN</td>\n      <td>NaN</td>\n      <td>...</td>\n      <td>NaN</td>\n      <td>NaN</td>\n      <td>NaN</td>\n      <td>False</td>\n      <td>NaN</td>\n      <td>NaN</td>\n      <td>NaN</td>\n      <td>NaN</td>\n      <td>False</td>\n      <td>Zone NA</td>\n    </tr>\n    <tr>\n      <th>NaN</th>\n      <td>RI-NA-08</td>\n      <td>RI</td>\n      <td>NaN</td>\n      <td>NaN</td>\n      <td>Zone NA</td>\n      <td>NaN</td>\n      <td>NaN</td>\n      <td>NaN</td>\n      <td>NaN</td>\n      <td>NaN</td>\n      <td>...</td>\n      <td>NaN</td>\n      <td>NaN</td>\n      <td>NaN</td>\n      <td>False</td>\n      <td>NaN</td>\n      <td>NaN</td>\n      <td>NaN</td>\n      <td>NaN</td>\n      <td>False</td>\n      <td>Zone NA</td>\n    </tr>\n    <tr>\n      <th>NaN</th>\n      <td>RI-NA-09</td>\n      <td>RI</td>\n      <td>NaN</td>\n      <td>NaN</td>\n      <td>Zone NA</td>\n      <td>NaN</td>\n      <td>NaN</td>\n      <td>NaN</td>\n      <td>NaN</td>\n      <td>NaN</td>\n      <td>...</td>\n      <td>NaN</td>\n      <td>NaN</td>\n      <td>NaN</td>\n      <td>False</td>\n      <td>NaN</td>\n      <td>NaN</td>\n      <td>NaN</td>\n      <td>NaN</td>\n      <td>False</td>\n      <td>Zone NA</td>\n    </tr>\n    <tr>\n      <th>NaN</th>\n      <td>RI-NA-10</td>\n      <td>RI</td>\n      <td>NaN</td>\n      <td>NaN</td>\n      <td>Zone NA</td>\n      <td>NaN</td>\n      <td>NaN</td>\n      <td>NaN</td>\n      <td>NaN</td>\n      <td>NaN</td>\n      <td>...</td>\n      <td>NaN</td>\n      <td>NaN</td>\n      <td>NaN</td>\n      <td>False</td>\n      <td>NaN</td>\n      <td>NaN</td>\n      <td>NaN</td>\n      <td>NaN</td>\n      <td>False</td>\n      <td>Zone NA</td>\n    </tr>\n  </tbody>\n</table>\n<p>509681 rows × 22 columns</p>\n</div>"
     },
     "metadata": {},
     "execution_count": 13
    }
   ],
   "source": [
    "ri"
   ]
  }
 ],
 "metadata": {
  "kernelspec": {
   "display_name": "Python 3.8.3 32-bit",
   "language": "python",
   "name": "python_defaultSpec_1599567398368"
  },
  "language_info": {
   "codemirror_mode": {
    "name": "ipython",
    "version": 3
   },
   "file_extension": ".py",
   "mimetype": "text/x-python",
   "name": "python",
   "nbconvert_exporter": "python",
   "pygments_lexer": "ipython3",
   "version": "3.8.3-final"
  }
 },
 "nbformat": 4,
 "nbformat_minor": 4
}