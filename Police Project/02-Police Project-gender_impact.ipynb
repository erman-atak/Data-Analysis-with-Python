{
 "cells": [
  {
   "cell_type": "code",
   "execution_count": 1,
   "metadata": {},
   "outputs": [
    {
     "name": "stderr",
     "output_type": "stream",
     "text": [
      "C:\\Users\\John\\anaconda3\\lib\\site-packages\\IPython\\core\\interactiveshell.py:3063: DtypeWarning: Columns (8) have mixed types.Specify dtype option on import or set low_memory=False.\n",
      "  interactivity=interactivity, compiler=compiler, result=result)\n"
     ]
    }
   ],
   "source": [
    "import pandas as pd\n",
    "ri = pd.read_csv('police.csv', nrows=50000)\n",
    "drop_columns=[\"state\", \"county_name\", \"county_fips\", \"fine_grained_location\"]\n",
    "ri.drop(drop_columns, axis='columns', inplace=True)\n",
    "ri.dropna(subset=['driver_gender'], inplace=True)\n",
    "ri['is_arrested'] = ri.is_arrested.astype('bool')\n",
    "combined = ri.stop_date.str.cat(ri.stop_time, sep=' ')\n",
    "ri['stop_datetime'] = pd.to_datetime(combined)\n",
    "ri.drop([\"stop_date\", \"stop_time\"], axis='columns', inplace=True)\n",
    "ri.set_index('stop_datetime', inplace=True)"
   ]
  },
  {
   "cell_type": "code",
   "execution_count": 2,
   "metadata": {},
   "outputs": [],
   "source": [
    "#%run ./01PreparingTheDataForAnalysis.ipynb"
   ]
  },
  {
   "cell_type": "code",
   "execution_count": 3,
   "metadata": {},
   "outputs": [],
   "source": [
    "#%store ri"
   ]
  },
  {
   "cell_type": "code",
   "execution_count": 4,
   "metadata": {},
   "outputs": [
    {
     "data": {
      "text/plain": [
       "5"
      ]
     },
     "execution_count": 4,
     "metadata": {},
     "output_type": "execute_result"
    }
   ],
   "source": [
    "ri['violation'].nunique()"
   ]
  },
  {
   "cell_type": "code",
   "execution_count": 5,
   "metadata": {},
   "outputs": [
    {
     "data": {
      "text/plain": [
       "Speeding               0.752156\n",
       "Moving violation       0.135847\n",
       "Equipment              0.062945\n",
       "Registration/plates    0.030473\n",
       "Other                  0.018579\n",
       "Name: violation, dtype: float64"
      ]
     },
     "execution_count": 5,
     "metadata": {},
     "output_type": "execute_result"
    }
   ],
   "source": [
    "ri['violation'].value_counts(normalize=True)"
   ]
  },
  {
   "cell_type": "markdown",
   "metadata": {},
   "source": [
    "***"
   ]
  },
  {
   "cell_type": "code",
   "execution_count": 6,
   "metadata": {},
   "outputs": [
    {
     "data": {
      "text/plain": [
       "M    34701\n",
       "F    13309\n",
       "Name: driver_gender, dtype: int64"
      ]
     },
     "execution_count": 6,
     "metadata": {},
     "output_type": "execute_result"
    }
   ],
   "source": [
    "ri['driver_gender'].value_counts(dropna=False)"
   ]
  },
  {
   "cell_type": "code",
   "execution_count": 7,
   "metadata": {},
   "outputs": [],
   "source": [
    "ri_f = ri[ri['driver_gender']  == 'F']\n",
    "ri_m = ri[ri['driver_gender']=='M']"
   ]
  },
  {
   "cell_type": "code",
   "execution_count": 8,
   "metadata": {},
   "outputs": [
    {
     "data": {
      "text/plain": [
       "Speeding               0.811180\n",
       "Moving violation       0.099031\n",
       "Equipment              0.045608\n",
       "Registration/plates    0.027575\n",
       "Other                  0.016605\n",
       "Name: violation, dtype: float64"
      ]
     },
     "execution_count": 8,
     "metadata": {},
     "output_type": "execute_result"
    }
   ],
   "source": [
    "ri_f['violation'].value_counts(normalize=True)"
   ]
  },
  {
   "cell_type": "code",
   "execution_count": 9,
   "metadata": {},
   "outputs": [
    {
     "data": {
      "text/plain": [
       "Speeding               0.729518\n",
       "Moving violation       0.149967\n",
       "Equipment              0.069595\n",
       "Registration/plates    0.031584\n",
       "Other                  0.019337\n",
       "Name: violation, dtype: float64"
      ]
     },
     "execution_count": 9,
     "metadata": {},
     "output_type": "execute_result"
    }
   ],
   "source": [
    "ri_m['violation'].value_counts(normalize=True)"
   ]
  },
  {
   "cell_type": "code",
   "execution_count": 10,
   "metadata": {},
   "outputs": [
    {
     "data": {
      "text/plain": [
       "driver_gender  violation          \n",
       "F              Speeding               0.811180\n",
       "               Moving violation       0.099031\n",
       "               Equipment              0.045608\n",
       "               Registration/plates    0.027575\n",
       "               Other                  0.016605\n",
       "M              Speeding               0.729518\n",
       "               Moving violation       0.149967\n",
       "               Equipment              0.069595\n",
       "               Registration/plates    0.031584\n",
       "               Other                  0.019337\n",
       "Name: violation, dtype: float64"
      ]
     },
     "execution_count": 10,
     "metadata": {},
     "output_type": "execute_result"
    }
   ],
   "source": [
    "ri.groupby(['driver_gender'])['violation'].value_counts(normalize=True, dropna=False)"
   ]
  },
  {
   "cell_type": "code",
   "execution_count": 11,
   "metadata": {},
   "outputs": [],
   "source": [
    "ri_fs = ri_f[ri_f['violation'] == 'Speeding']"
   ]
  },
  {
   "cell_type": "code",
   "execution_count": 12,
   "metadata": {},
   "outputs": [],
   "source": [
    "ri_ms = ri_m[ri_m['violation'] == 'Speeding']"
   ]
  },
  {
   "cell_type": "code",
   "execution_count": null,
   "metadata": {},
   "outputs": [],
   "source": []
  },
  {
   "cell_type": "markdown",
   "metadata": {},
   "source": []
  },
  {
   "cell_type": "code",
   "execution_count": 13,
   "metadata": {},
   "outputs": [
    {
     "name": "stdout",
     "output_type": "stream",
     "text": [
      "Citation            0.973416\n",
      "Warning             0.012968\n",
      "Arrest Driver       0.007410\n",
      "N/D                 0.003612\n",
      "Arrest Passenger    0.002316\n",
      "No Action           0.000278\n",
      "Name: stop_outcome, dtype: float64\n",
      "-----------------------------------\n"
     ]
    },
    {
     "data": {
      "text/plain": [
       "Citation            0.957298\n",
       "Arrest Driver       0.026230\n",
       "Warning             0.010666\n",
       "N/D                 0.003397\n",
       "Arrest Passenger    0.002015\n",
       "No Action           0.000395\n",
       "Name: stop_outcome, dtype: float64"
      ]
     },
     "execution_count": 13,
     "metadata": {},
     "output_type": "execute_result"
    }
   ],
   "source": [
    "print(ri_fs['stop_outcome'].value_counts(normalize=True))\n",
    "print(\"-----------------------------------\")\n",
    "ri_ms['stop_outcome'].value_counts(normalize=True)"
   ]
  },
  {
   "cell_type": "code",
   "execution_count": 14,
   "metadata": {},
   "outputs": [
    {
     "data": {
      "text/plain": [
       "Citation            0.957298\n",
       "Arrest Driver       0.026230\n",
       "Warning             0.010666\n",
       "N/D                 0.003397\n",
       "Arrest Passenger    0.002015\n",
       "No Action           0.000395\n",
       "Name: stop_outcome, dtype: float64"
      ]
     },
     "execution_count": 14,
     "metadata": {},
     "output_type": "execute_result"
    }
   ],
   "source": [
    "ri_ms['stop_outcome'].value_counts(normalize=True)"
   ]
  },
  {
   "cell_type": "code",
   "execution_count": 15,
   "metadata": {},
   "outputs": [
    {
     "data": {
      "text/plain": [
       "violation            driver_gender  stop_outcome    \n",
       "Equipment            F              Citation            0.650741\n",
       "                                    N/D                 0.205931\n",
       "                                    Arrest Driver       0.065898\n",
       "                                    Warning             0.046129\n",
       "                                    Arrest Passenger    0.026359\n",
       "                                    No Action           0.004942\n",
       "                     M              Citation            0.682402\n",
       "                                    N/D                 0.133333\n",
       "                                    Arrest Driver       0.117184\n",
       "                                    Warning             0.050104\n",
       "                                    Arrest Passenger    0.014493\n",
       "                                    No Action           0.002484\n",
       "Moving violation     F              Citation            0.868741\n",
       "                                    Arrest Driver       0.072838\n",
       "                                    Warning             0.037178\n",
       "                                    N/D                 0.010622\n",
       "                                    Arrest Passenger    0.009863\n",
       "                                    No Action           0.000759\n",
       "                     M              Citation            0.824366\n",
       "                                    Arrest Driver       0.116065\n",
       "                                    Warning             0.040930\n",
       "                                    N/D                 0.009992\n",
       "                                    Arrest Passenger    0.008071\n",
       "                                    No Action           0.000576\n",
       "Other                F              Citation            0.497738\n",
       "                                    No Action           0.280543\n",
       "                                    Arrest Driver       0.217195\n",
       "                                    Arrest Passenger    0.004525\n",
       "                     M              Citation            0.529061\n",
       "                                    Arrest Driver       0.281669\n",
       "                                    No Action           0.165425\n",
       "                                    Arrest Passenger    0.013413\n",
       "                                    Warning             0.007452\n",
       "                                    N/D                 0.002981\n",
       "Registration/plates  F              Citation            0.749319\n",
       "                                    Arrest Driver       0.177112\n",
       "                                    Arrest Passenger    0.032698\n",
       "                                    Warning             0.027248\n",
       "                                    N/D                 0.010899\n",
       "                                    No Action           0.002725\n",
       "                     M              Citation            0.753650\n",
       "                                    Arrest Driver       0.181569\n",
       "                                    Warning             0.031934\n",
       "                                    N/D                 0.017336\n",
       "                                    Arrest Passenger    0.014599\n",
       "                                    No Action           0.000912\n",
       "Speeding             F              Citation            0.973416\n",
       "                                    Warning             0.012968\n",
       "                                    Arrest Driver       0.007410\n",
       "                                    N/D                 0.003612\n",
       "                                    Arrest Passenger    0.002316\n",
       "                                    No Action           0.000278\n",
       "                     M              Citation            0.957298\n",
       "                                    Arrest Driver       0.026230\n",
       "                                    Warning             0.010666\n",
       "                                    N/D                 0.003397\n",
       "                                    Arrest Passenger    0.002015\n",
       "                                    No Action           0.000395\n",
       "Name: stop_outcome, dtype: float64"
      ]
     },
     "execution_count": 15,
     "metadata": {},
     "output_type": "execute_result"
    }
   ],
   "source": [
    "ri.groupby(['violation', 'driver_gender'])['stop_outcome'].value_counts(normalize=True)"
   ]
  },
  {
   "cell_type": "code",
   "execution_count": null,
   "metadata": {},
   "outputs": [],
   "source": []
  },
  {
   "cell_type": "code",
   "execution_count": 16,
   "metadata": {},
   "outputs": [
    {
     "data": {
      "text/plain": [
       "id                     object\n",
       "location_raw           object\n",
       "police_department      object\n",
       "driver_gender          object\n",
       "driver_age_raw        float64\n",
       "driver_age            float64\n",
       "driver_race_raw        object\n",
       "driver_race            object\n",
       "violation_raw          object\n",
       "violation              object\n",
       "search_conducted         bool\n",
       "search_type_raw        object\n",
       "search_type            object\n",
       "contraband_found         bool\n",
       "stop_outcome           object\n",
       "is_arrested              bool\n",
       "stop_duration          object\n",
       "out_of_state           object\n",
       "drugs_related_stop       bool\n",
       "district               object\n",
       "dtype: object"
      ]
     },
     "execution_count": 16,
     "metadata": {},
     "output_type": "execute_result"
    }
   ],
   "source": [
    "ri.dtypes"
   ]
  },
  {
   "cell_type": "code",
   "execution_count": 17,
   "metadata": {},
   "outputs": [
    {
     "data": {
      "text/plain": [
       "id                     object\n",
       "location_raw           object\n",
       "police_department      object\n",
       "driver_gender          object\n",
       "driver_age_raw        float64\n",
       "driver_age            float64\n",
       "driver_race_raw        object\n",
       "driver_race            object\n",
       "violation_raw          object\n",
       "violation              object\n",
       "search_conducted         bool\n",
       "search_type_raw        object\n",
       "search_type            object\n",
       "contraband_found         bool\n",
       "stop_outcome           object\n",
       "is_arrested              bool\n",
       "stop_duration          object\n",
       "out_of_state           object\n",
       "drugs_related_stop       bool\n",
       "district               object\n",
       "dtype: object"
      ]
     },
     "execution_count": 17,
     "metadata": {},
     "output_type": "execute_result"
    }
   ],
   "source": [
    "ri.astype({'search_conducted': 'bool'}).dtypes"
   ]
  },
  {
   "cell_type": "code",
   "execution_count": 18,
   "metadata": {},
   "outputs": [
    {
     "data": {
      "text/plain": [
       "False    0.958092\n",
       "True     0.041908\n",
       "Name: search_conducted, dtype: float64"
      ]
     },
     "execution_count": 18,
     "metadata": {},
     "output_type": "execute_result"
    }
   ],
   "source": [
    "ri['search_conducted'].value_counts(normalize=True)"
   ]
  },
  {
   "cell_type": "code",
   "execution_count": 19,
   "metadata": {},
   "outputs": [
    {
     "data": {
      "text/plain": [
       "0.04190793584669861"
      ]
     },
     "execution_count": 19,
     "metadata": {},
     "output_type": "execute_result"
    }
   ],
   "source": [
    "ri['search_conducted'].mean()"
   ]
  },
  {
   "cell_type": "code",
   "execution_count": 20,
   "metadata": {},
   "outputs": [
    {
     "data": {
      "text/plain": [
       "0.017807498685100308"
      ]
     },
     "execution_count": 20,
     "metadata": {},
     "output_type": "execute_result"
    }
   ],
   "source": [
    "ri[ri['driver_gender'] == 'F']['search_conducted'].mean()"
   ]
  },
  {
   "cell_type": "code",
   "execution_count": 21,
   "metadata": {},
   "outputs": [
    {
     "data": {
      "text/plain": [
       "0.05115126365234431"
      ]
     },
     "execution_count": 21,
     "metadata": {},
     "output_type": "execute_result"
    }
   ],
   "source": [
    "ri[ri['driver_gender'] == 'M']['search_conducted'].mean()"
   ]
  },
  {
   "cell_type": "code",
   "execution_count": null,
   "metadata": {},
   "outputs": [],
   "source": []
  },
  {
   "cell_type": "code",
   "execution_count": 22,
   "metadata": {},
   "outputs": [
    {
     "data": {
      "text/plain": [
       "driver_gender\n",
       "F    0.017807\n",
       "M    0.051151\n",
       "Name: search_conducted, dtype: float64"
      ]
     },
     "execution_count": 22,
     "metadata": {},
     "output_type": "execute_result"
    }
   ],
   "source": [
    "ri.groupby(['driver_gender'])['search_conducted'].mean()"
   ]
  },
  {
   "cell_type": "code",
   "execution_count": 23,
   "metadata": {},
   "outputs": [
    {
     "data": {
      "text/plain": [
       "driver_gender  violation          \n",
       "F              Equipment              0.079077\n",
       "               Moving violation       0.047800\n",
       "               Other                  0.045249\n",
       "               Registration/plates    0.114441\n",
       "               Speeding               0.006854\n",
       "M              Equipment              0.123395\n",
       "               Moving violation       0.088778\n",
       "               Other                  0.154993\n",
       "               Registration/plates    0.171533\n",
       "               Speeding               0.028560\n",
       "Name: search_conducted, dtype: float64"
      ]
     },
     "execution_count": 23,
     "metadata": {},
     "output_type": "execute_result"
    }
   ],
   "source": [
    "ri.groupby(['driver_gender','violation'])['search_conducted'].mean()"
   ]
  },
  {
   "cell_type": "code",
   "execution_count": 24,
   "metadata": {},
   "outputs": [
    {
     "data": {
      "text/plain": [
       "violation            driver_gender\n",
       "Equipment            F                0.079077\n",
       "                     M                0.123395\n",
       "Moving violation     F                0.047800\n",
       "                     M                0.088778\n",
       "Other                F                0.045249\n",
       "                     M                0.154993\n",
       "Registration/plates  F                0.114441\n",
       "                     M                0.171533\n",
       "Speeding             F                0.006854\n",
       "                     M                0.028560\n",
       "Name: search_conducted, dtype: float64"
      ]
     },
     "execution_count": 24,
     "metadata": {},
     "output_type": "execute_result"
    }
   ],
   "source": [
    "ri.groupby(['violation','driver_gender'])['search_conducted'].mean()"
   ]
  },
  {
   "cell_type": "code",
   "execution_count": 25,
   "metadata": {},
   "outputs": [
    {
     "data": {
      "text/plain": [
       "id                     object\n",
       "location_raw           object\n",
       "police_department      object\n",
       "driver_gender          object\n",
       "driver_age_raw        float64\n",
       "driver_age            float64\n",
       "driver_race_raw        object\n",
       "driver_race            object\n",
       "violation_raw          object\n",
       "violation              object\n",
       "search_conducted         bool\n",
       "search_type_raw        object\n",
       "search_type            object\n",
       "contraband_found         bool\n",
       "stop_outcome           object\n",
       "is_arrested              bool\n",
       "stop_duration          object\n",
       "out_of_state           object\n",
       "drugs_related_stop       bool\n",
       "district               object\n",
       "dtype: object"
      ]
     },
     "execution_count": 25,
     "metadata": {},
     "output_type": "execute_result"
    }
   ],
   "source": [
    "ri.dtypes"
   ]
  },
  {
   "cell_type": "code",
   "execution_count": 26,
   "metadata": {},
   "outputs": [
    {
     "data": {
      "text/plain": [
       "Incident to Arrest                                          958\n",
       "Probable Cause                                              244\n",
       "Protective Frisk                                            204\n",
       "Inventory                                                   117\n",
       "Incident to Arrest,Inventory                                116\n",
       "Incident to Arrest,Probable Cause                            76\n",
       "Incident to Arrest,Protective Frisk                          63\n",
       "Reasonable Suspicion                                         43\n",
       "Probable Cause,Protective Frisk                              36\n",
       "Incident to Arrest,Inventory,Protective Frisk                33\n",
       "Inventory,Protective Frisk                                   23\n",
       "Incident to Arrest,Probable Cause,Protective Frisk           20\n",
       "Incident to Arrest,Inventory,Probable Cause                  19\n",
       "Inventory,Probable Cause                                     16\n",
       "Protective Frisk,Reasonable Suspicion                        16\n",
       "Probable Cause,Reasonable Suspicion                          12\n",
       "Probable Cause,Protective Frisk,Reasonable Suspicion          5\n",
       "Incident to Arrest,Reasonable Suspicion                       5\n",
       "Inventory,Probable Cause,Protective Frisk                     2\n",
       "Incident to Arrest,Protective Frisk,Reasonable Suspicion      1\n",
       "Incident to Arrest,Inventory,Reasonable Suspicion             1\n",
       "Inventory,Reasonable Suspicion                                1\n",
       "Incident to Arrest,Probable Cause,Reasonable Suspicion        1\n",
       "Name: search_type, dtype: int64"
      ]
     },
     "execution_count": 26,
     "metadata": {},
     "output_type": "execute_result"
    }
   ],
   "source": [
    "ri['search_type'].value_counts()"
   ]
  },
  {
   "cell_type": "code",
   "execution_count": 29,
   "metadata": {},
   "outputs": [],
   "source": [
    "ri['frisk'] = ri.search_type.str.contains('Protective Frisk', na=False)"
   ]
  },
  {
   "cell_type": "code",
   "execution_count": 32,
   "metadata": {},
   "outputs": [
    {
     "data": {
      "text/plain": [
       "stop_datetime\n",
       "2005-01-02 01:55:00    False\n",
       "2005-01-02 20:30:00    False\n",
       "2005-01-04 12:55:00    False\n",
       "2005-01-06 01:30:00    False\n",
       "2005-01-12 08:05:00    False\n",
       "                       ...  \n",
       "2006-08-08 22:45:00    False\n",
       "2006-08-08 22:45:00    False\n",
       "2006-08-08 22:53:00    False\n",
       "2006-08-08 23:00:00    False\n",
       "2006-08-08 23:00:00    False\n",
       "Name: frisk, Length: 48010, dtype: bool"
      ]
     },
     "execution_count": 32,
     "metadata": {},
     "output_type": "execute_result"
    }
   ],
   "source": [
    "ri.frisk"
   ]
  },
  {
   "cell_type": "code",
   "execution_count": 31,
   "metadata": {},
   "outputs": [
    {
     "data": {
      "text/html": [
       "<div>\n",
       "<style scoped>\n",
       "    .dataframe tbody tr th:only-of-type {\n",
       "        vertical-align: middle;\n",
       "    }\n",
       "\n",
       "    .dataframe tbody tr th {\n",
       "        vertical-align: top;\n",
       "    }\n",
       "\n",
       "    .dataframe thead th {\n",
       "        text-align: right;\n",
       "    }\n",
       "</style>\n",
       "<table border=\"1\" class=\"dataframe\">\n",
       "  <thead>\n",
       "    <tr style=\"text-align: right;\">\n",
       "      <th></th>\n",
       "      <th>id</th>\n",
       "      <th>location_raw</th>\n",
       "      <th>police_department</th>\n",
       "      <th>driver_gender</th>\n",
       "      <th>driver_age_raw</th>\n",
       "      <th>driver_age</th>\n",
       "      <th>driver_race_raw</th>\n",
       "      <th>driver_race</th>\n",
       "      <th>violation_raw</th>\n",
       "      <th>violation</th>\n",
       "      <th>...</th>\n",
       "      <th>search_type_raw</th>\n",
       "      <th>search_type</th>\n",
       "      <th>contraband_found</th>\n",
       "      <th>stop_outcome</th>\n",
       "      <th>is_arrested</th>\n",
       "      <th>stop_duration</th>\n",
       "      <th>out_of_state</th>\n",
       "      <th>drugs_related_stop</th>\n",
       "      <th>district</th>\n",
       "      <th>frisk</th>\n",
       "    </tr>\n",
       "    <tr>\n",
       "      <th>stop_datetime</th>\n",
       "      <th></th>\n",
       "      <th></th>\n",
       "      <th></th>\n",
       "      <th></th>\n",
       "      <th></th>\n",
       "      <th></th>\n",
       "      <th></th>\n",
       "      <th></th>\n",
       "      <th></th>\n",
       "      <th></th>\n",
       "      <th></th>\n",
       "      <th></th>\n",
       "      <th></th>\n",
       "      <th></th>\n",
       "      <th></th>\n",
       "      <th></th>\n",
       "      <th></th>\n",
       "      <th></th>\n",
       "      <th></th>\n",
       "      <th></th>\n",
       "      <th></th>\n",
       "    </tr>\n",
       "  </thead>\n",
       "  <tbody>\n",
       "    <tr>\n",
       "      <th>2005-02-09 03:05:00</th>\n",
       "      <td>RI-2005-00011</td>\n",
       "      <td>Zone X4</td>\n",
       "      <td>500</td>\n",
       "      <td>M</td>\n",
       "      <td>1976.0</td>\n",
       "      <td>29.0</td>\n",
       "      <td>W</td>\n",
       "      <td>White</td>\n",
       "      <td>Registration Violation</td>\n",
       "      <td>Registration/plates</td>\n",
       "      <td>...</td>\n",
       "      <td>Probable Cause,Terry Frisk</td>\n",
       "      <td>Probable Cause,Protective Frisk</td>\n",
       "      <td>False</td>\n",
       "      <td>Citation</td>\n",
       "      <td>False</td>\n",
       "      <td>0-15 Min</td>\n",
       "      <td>False</td>\n",
       "      <td>False</td>\n",
       "      <td>Zone X4</td>\n",
       "      <td>True</td>\n",
       "    </tr>\n",
       "    <tr>\n",
       "      <th>2005-08-28 01:00:00</th>\n",
       "      <td>RI-2005-00084</td>\n",
       "      <td>Zone X1</td>\n",
       "      <td>0</td>\n",
       "      <td>M</td>\n",
       "      <td>1979.0</td>\n",
       "      <td>26.0</td>\n",
       "      <td>W</td>\n",
       "      <td>White</td>\n",
       "      <td>Other Traffic Violation</td>\n",
       "      <td>Moving violation</td>\n",
       "      <td>...</td>\n",
       "      <td>Incident to Arrest,Terry Frisk</td>\n",
       "      <td>Incident to Arrest,Protective Frisk</td>\n",
       "      <td>False</td>\n",
       "      <td>Arrest Driver</td>\n",
       "      <td>True</td>\n",
       "      <td>16-30 Min</td>\n",
       "      <td>True</td>\n",
       "      <td>False</td>\n",
       "      <td>Zone X1</td>\n",
       "      <td>True</td>\n",
       "    </tr>\n",
       "    <tr>\n",
       "      <th>2005-10-01 16:20:00</th>\n",
       "      <td>RI-2005-00253</td>\n",
       "      <td>Zone K1</td>\n",
       "      <td>600</td>\n",
       "      <td>M</td>\n",
       "      <td>1958.0</td>\n",
       "      <td>47.0</td>\n",
       "      <td>W</td>\n",
       "      <td>White</td>\n",
       "      <td>Speeding</td>\n",
       "      <td>Speeding</td>\n",
       "      <td>...</td>\n",
       "      <td>Reasonable Suspicion,Terry Frisk</td>\n",
       "      <td>Protective Frisk,Reasonable Suspicion</td>\n",
       "      <td>True</td>\n",
       "      <td>Citation</td>\n",
       "      <td>False</td>\n",
       "      <td>16-30 Min</td>\n",
       "      <td>False</td>\n",
       "      <td>False</td>\n",
       "      <td>Zone K1</td>\n",
       "      <td>True</td>\n",
       "    </tr>\n",
       "    <tr>\n",
       "      <th>2005-10-06 21:35:00</th>\n",
       "      <td>RI-2005-01027</td>\n",
       "      <td>Zone X4</td>\n",
       "      <td>500</td>\n",
       "      <td>M</td>\n",
       "      <td>1966.0</td>\n",
       "      <td>39.0</td>\n",
       "      <td>W</td>\n",
       "      <td>White</td>\n",
       "      <td>Speeding</td>\n",
       "      <td>Speeding</td>\n",
       "      <td>...</td>\n",
       "      <td>Terry Frisk</td>\n",
       "      <td>Protective Frisk</td>\n",
       "      <td>False</td>\n",
       "      <td>Citation</td>\n",
       "      <td>False</td>\n",
       "      <td>0-15 Min</td>\n",
       "      <td>False</td>\n",
       "      <td>False</td>\n",
       "      <td>Zone X4</td>\n",
       "      <td>True</td>\n",
       "    </tr>\n",
       "    <tr>\n",
       "      <th>2005-10-07 11:33:00</th>\n",
       "      <td>RI-2005-01121</td>\n",
       "      <td>Zone X4</td>\n",
       "      <td>900</td>\n",
       "      <td>M</td>\n",
       "      <td>1980.0</td>\n",
       "      <td>25.0</td>\n",
       "      <td>W</td>\n",
       "      <td>White</td>\n",
       "      <td>Equipment/Inspection Violation</td>\n",
       "      <td>Equipment</td>\n",
       "      <td>...</td>\n",
       "      <td>Terry Frisk</td>\n",
       "      <td>Protective Frisk</td>\n",
       "      <td>False</td>\n",
       "      <td>Arrest Driver</td>\n",
       "      <td>True</td>\n",
       "      <td>16-30 Min</td>\n",
       "      <td>False</td>\n",
       "      <td>False</td>\n",
       "      <td>Zone X4</td>\n",
       "      <td>True</td>\n",
       "    </tr>\n",
       "    <tr>\n",
       "      <th>...</th>\n",
       "      <td>...</td>\n",
       "      <td>...</td>\n",
       "      <td>...</td>\n",
       "      <td>...</td>\n",
       "      <td>...</td>\n",
       "      <td>...</td>\n",
       "      <td>...</td>\n",
       "      <td>...</td>\n",
       "      <td>...</td>\n",
       "      <td>...</td>\n",
       "      <td>...</td>\n",
       "      <td>...</td>\n",
       "      <td>...</td>\n",
       "      <td>...</td>\n",
       "      <td>...</td>\n",
       "      <td>...</td>\n",
       "      <td>...</td>\n",
       "      <td>...</td>\n",
       "      <td>...</td>\n",
       "      <td>...</td>\n",
       "      <td>...</td>\n",
       "    </tr>\n",
       "    <tr>\n",
       "      <th>2006-08-05 07:24:00</th>\n",
       "      <td>RI-2006-35304</td>\n",
       "      <td>Zone K1</td>\n",
       "      <td>600</td>\n",
       "      <td>M</td>\n",
       "      <td>1976.0</td>\n",
       "      <td>30.0</td>\n",
       "      <td>W</td>\n",
       "      <td>White</td>\n",
       "      <td>Speeding</td>\n",
       "      <td>Speeding</td>\n",
       "      <td>...</td>\n",
       "      <td>Terry Frisk</td>\n",
       "      <td>Protective Frisk</td>\n",
       "      <td>False</td>\n",
       "      <td>Citation</td>\n",
       "      <td>False</td>\n",
       "      <td>0-15 Min</td>\n",
       "      <td>True</td>\n",
       "      <td>False</td>\n",
       "      <td>Zone K1</td>\n",
       "      <td>True</td>\n",
       "    </tr>\n",
       "    <tr>\n",
       "      <th>2006-08-06 02:45:00</th>\n",
       "      <td>RI-2006-35412</td>\n",
       "      <td>Zone K2</td>\n",
       "      <td>900</td>\n",
       "      <td>M</td>\n",
       "      <td>1983.0</td>\n",
       "      <td>23.0</td>\n",
       "      <td>W</td>\n",
       "      <td>White</td>\n",
       "      <td>Speeding</td>\n",
       "      <td>Speeding</td>\n",
       "      <td>...</td>\n",
       "      <td>Terry Frisk</td>\n",
       "      <td>Protective Frisk</td>\n",
       "      <td>False</td>\n",
       "      <td>Citation</td>\n",
       "      <td>False</td>\n",
       "      <td>0-15 Min</td>\n",
       "      <td>True</td>\n",
       "      <td>False</td>\n",
       "      <td>Zone K2</td>\n",
       "      <td>True</td>\n",
       "    </tr>\n",
       "    <tr>\n",
       "      <th>2006-08-08 00:15:00</th>\n",
       "      <td>RI-2006-35744</td>\n",
       "      <td>Zone K3</td>\n",
       "      <td>300</td>\n",
       "      <td>M</td>\n",
       "      <td>1971.0</td>\n",
       "      <td>35.0</td>\n",
       "      <td>W</td>\n",
       "      <td>White</td>\n",
       "      <td>Other Traffic Violation</td>\n",
       "      <td>Moving violation</td>\n",
       "      <td>...</td>\n",
       "      <td>Probable Cause,Terry Frisk</td>\n",
       "      <td>Probable Cause,Protective Frisk</td>\n",
       "      <td>True</td>\n",
       "      <td>Citation</td>\n",
       "      <td>False</td>\n",
       "      <td>16-30 Min</td>\n",
       "      <td>False</td>\n",
       "      <td>True</td>\n",
       "      <td>Zone K3</td>\n",
       "      <td>True</td>\n",
       "    </tr>\n",
       "    <tr>\n",
       "      <th>2006-08-08 00:15:00</th>\n",
       "      <td>RI-2006-35745</td>\n",
       "      <td>Zone X4</td>\n",
       "      <td>500</td>\n",
       "      <td>M</td>\n",
       "      <td>1971.0</td>\n",
       "      <td>35.0</td>\n",
       "      <td>W</td>\n",
       "      <td>White</td>\n",
       "      <td>Speeding</td>\n",
       "      <td>Speeding</td>\n",
       "      <td>...</td>\n",
       "      <td>Probable Cause,Terry Frisk</td>\n",
       "      <td>Probable Cause,Protective Frisk</td>\n",
       "      <td>True</td>\n",
       "      <td>Citation</td>\n",
       "      <td>False</td>\n",
       "      <td>16-30 Min</td>\n",
       "      <td>False</td>\n",
       "      <td>True</td>\n",
       "      <td>Zone X4</td>\n",
       "      <td>True</td>\n",
       "    </tr>\n",
       "    <tr>\n",
       "      <th>2006-08-08 22:22:00</th>\n",
       "      <td>RI-2006-35912</td>\n",
       "      <td>Zone K3</td>\n",
       "      <td>300</td>\n",
       "      <td>M</td>\n",
       "      <td>1957.0</td>\n",
       "      <td>49.0</td>\n",
       "      <td>W</td>\n",
       "      <td>White</td>\n",
       "      <td>APB</td>\n",
       "      <td>Other</td>\n",
       "      <td>...</td>\n",
       "      <td>Incident to Arrest,Terry Frisk</td>\n",
       "      <td>Incident to Arrest,Protective Frisk</td>\n",
       "      <td>False</td>\n",
       "      <td>Arrest Driver</td>\n",
       "      <td>True</td>\n",
       "      <td>0-15 Min</td>\n",
       "      <td>False</td>\n",
       "      <td>False</td>\n",
       "      <td>Zone K3</td>\n",
       "      <td>True</td>\n",
       "    </tr>\n",
       "  </tbody>\n",
       "</table>\n",
       "<p>403 rows × 21 columns</p>\n",
       "</div>"
      ],
      "text/plain": [
       "                                id location_raw police_department  \\\n",
       "stop_datetime                                                       \n",
       "2005-02-09 03:05:00  RI-2005-00011      Zone X4               500   \n",
       "2005-08-28 01:00:00  RI-2005-00084      Zone X1                 0   \n",
       "2005-10-01 16:20:00  RI-2005-00253      Zone K1               600   \n",
       "2005-10-06 21:35:00  RI-2005-01027      Zone X4               500   \n",
       "2005-10-07 11:33:00  RI-2005-01121      Zone X4               900   \n",
       "...                            ...          ...               ...   \n",
       "2006-08-05 07:24:00  RI-2006-35304      Zone K1               600   \n",
       "2006-08-06 02:45:00  RI-2006-35412      Zone K2               900   \n",
       "2006-08-08 00:15:00  RI-2006-35744      Zone K3               300   \n",
       "2006-08-08 00:15:00  RI-2006-35745      Zone X4               500   \n",
       "2006-08-08 22:22:00  RI-2006-35912      Zone K3               300   \n",
       "\n",
       "                    driver_gender  driver_age_raw  driver_age driver_race_raw  \\\n",
       "stop_datetime                                                                   \n",
       "2005-02-09 03:05:00             M          1976.0        29.0               W   \n",
       "2005-08-28 01:00:00             M          1979.0        26.0               W   \n",
       "2005-10-01 16:20:00             M          1958.0        47.0               W   \n",
       "2005-10-06 21:35:00             M          1966.0        39.0               W   \n",
       "2005-10-07 11:33:00             M          1980.0        25.0               W   \n",
       "...                           ...             ...         ...             ...   \n",
       "2006-08-05 07:24:00             M          1976.0        30.0               W   \n",
       "2006-08-06 02:45:00             M          1983.0        23.0               W   \n",
       "2006-08-08 00:15:00             M          1971.0        35.0               W   \n",
       "2006-08-08 00:15:00             M          1971.0        35.0               W   \n",
       "2006-08-08 22:22:00             M          1957.0        49.0               W   \n",
       "\n",
       "                    driver_race                   violation_raw  \\\n",
       "stop_datetime                                                     \n",
       "2005-02-09 03:05:00       White          Registration Violation   \n",
       "2005-08-28 01:00:00       White         Other Traffic Violation   \n",
       "2005-10-01 16:20:00       White                        Speeding   \n",
       "2005-10-06 21:35:00       White                        Speeding   \n",
       "2005-10-07 11:33:00       White  Equipment/Inspection Violation   \n",
       "...                         ...                             ...   \n",
       "2006-08-05 07:24:00       White                        Speeding   \n",
       "2006-08-06 02:45:00       White                        Speeding   \n",
       "2006-08-08 00:15:00       White         Other Traffic Violation   \n",
       "2006-08-08 00:15:00       White                        Speeding   \n",
       "2006-08-08 22:22:00       White                             APB   \n",
       "\n",
       "                               violation  ...  \\\n",
       "stop_datetime                             ...   \n",
       "2005-02-09 03:05:00  Registration/plates  ...   \n",
       "2005-08-28 01:00:00     Moving violation  ...   \n",
       "2005-10-01 16:20:00             Speeding  ...   \n",
       "2005-10-06 21:35:00             Speeding  ...   \n",
       "2005-10-07 11:33:00            Equipment  ...   \n",
       "...                                  ...  ...   \n",
       "2006-08-05 07:24:00             Speeding  ...   \n",
       "2006-08-06 02:45:00             Speeding  ...   \n",
       "2006-08-08 00:15:00     Moving violation  ...   \n",
       "2006-08-08 00:15:00             Speeding  ...   \n",
       "2006-08-08 22:22:00                Other  ...   \n",
       "\n",
       "                                      search_type_raw  \\\n",
       "stop_datetime                                           \n",
       "2005-02-09 03:05:00        Probable Cause,Terry Frisk   \n",
       "2005-08-28 01:00:00    Incident to Arrest,Terry Frisk   \n",
       "2005-10-01 16:20:00  Reasonable Suspicion,Terry Frisk   \n",
       "2005-10-06 21:35:00                       Terry Frisk   \n",
       "2005-10-07 11:33:00                       Terry Frisk   \n",
       "...                                               ...   \n",
       "2006-08-05 07:24:00                       Terry Frisk   \n",
       "2006-08-06 02:45:00                       Terry Frisk   \n",
       "2006-08-08 00:15:00        Probable Cause,Terry Frisk   \n",
       "2006-08-08 00:15:00        Probable Cause,Terry Frisk   \n",
       "2006-08-08 22:22:00    Incident to Arrest,Terry Frisk   \n",
       "\n",
       "                                               search_type contraband_found  \\\n",
       "stop_datetime                                                                 \n",
       "2005-02-09 03:05:00        Probable Cause,Protective Frisk            False   \n",
       "2005-08-28 01:00:00    Incident to Arrest,Protective Frisk            False   \n",
       "2005-10-01 16:20:00  Protective Frisk,Reasonable Suspicion             True   \n",
       "2005-10-06 21:35:00                       Protective Frisk            False   \n",
       "2005-10-07 11:33:00                       Protective Frisk            False   \n",
       "...                                                    ...              ...   \n",
       "2006-08-05 07:24:00                       Protective Frisk            False   \n",
       "2006-08-06 02:45:00                       Protective Frisk            False   \n",
       "2006-08-08 00:15:00        Probable Cause,Protective Frisk             True   \n",
       "2006-08-08 00:15:00        Probable Cause,Protective Frisk             True   \n",
       "2006-08-08 22:22:00    Incident to Arrest,Protective Frisk            False   \n",
       "\n",
       "                      stop_outcome is_arrested  stop_duration out_of_state  \\\n",
       "stop_datetime                                                                \n",
       "2005-02-09 03:05:00       Citation       False       0-15 Min        False   \n",
       "2005-08-28 01:00:00  Arrest Driver        True      16-30 Min         True   \n",
       "2005-10-01 16:20:00       Citation       False      16-30 Min        False   \n",
       "2005-10-06 21:35:00       Citation       False       0-15 Min        False   \n",
       "2005-10-07 11:33:00  Arrest Driver        True      16-30 Min        False   \n",
       "...                            ...         ...            ...          ...   \n",
       "2006-08-05 07:24:00       Citation       False       0-15 Min         True   \n",
       "2006-08-06 02:45:00       Citation       False       0-15 Min         True   \n",
       "2006-08-08 00:15:00       Citation       False      16-30 Min        False   \n",
       "2006-08-08 00:15:00       Citation       False      16-30 Min        False   \n",
       "2006-08-08 22:22:00  Arrest Driver        True       0-15 Min        False   \n",
       "\n",
       "                    drugs_related_stop  district frisk  \n",
       "stop_datetime                                           \n",
       "2005-02-09 03:05:00              False   Zone X4  True  \n",
       "2005-08-28 01:00:00              False   Zone X1  True  \n",
       "2005-10-01 16:20:00              False   Zone K1  True  \n",
       "2005-10-06 21:35:00              False   Zone X4  True  \n",
       "2005-10-07 11:33:00              False   Zone X4  True  \n",
       "...                                ...       ...   ...  \n",
       "2006-08-05 07:24:00              False   Zone K1  True  \n",
       "2006-08-06 02:45:00              False   Zone K2  True  \n",
       "2006-08-08 00:15:00               True   Zone K3  True  \n",
       "2006-08-08 00:15:00               True   Zone X4  True  \n",
       "2006-08-08 22:22:00              False   Zone K3  True  \n",
       "\n",
       "[403 rows x 21 columns]"
      ]
     },
     "execution_count": 31,
     "metadata": {},
     "output_type": "execute_result"
    }
   ],
   "source": [
    "ri[ri.frisk]"
   ]
  },
  {
   "cell_type": "code",
   "execution_count": 35,
   "metadata": {},
   "outputs": [],
   "source": [
    "searched = ri[ri.search_conducted]"
   ]
  },
  {
   "cell_type": "code",
   "execution_count": 36,
   "metadata": {},
   "outputs": [
    {
     "data": {
      "text/html": [
       "<div>\n",
       "<style scoped>\n",
       "    .dataframe tbody tr th:only-of-type {\n",
       "        vertical-align: middle;\n",
       "    }\n",
       "\n",
       "    .dataframe tbody tr th {\n",
       "        vertical-align: top;\n",
       "    }\n",
       "\n",
       "    .dataframe thead th {\n",
       "        text-align: right;\n",
       "    }\n",
       "</style>\n",
       "<table border=\"1\" class=\"dataframe\">\n",
       "  <thead>\n",
       "    <tr style=\"text-align: right;\">\n",
       "      <th></th>\n",
       "      <th>id</th>\n",
       "      <th>location_raw</th>\n",
       "      <th>police_department</th>\n",
       "      <th>driver_gender</th>\n",
       "      <th>driver_age_raw</th>\n",
       "      <th>driver_age</th>\n",
       "      <th>driver_race_raw</th>\n",
       "      <th>driver_race</th>\n",
       "      <th>violation_raw</th>\n",
       "      <th>violation</th>\n",
       "      <th>...</th>\n",
       "      <th>search_type_raw</th>\n",
       "      <th>search_type</th>\n",
       "      <th>contraband_found</th>\n",
       "      <th>stop_outcome</th>\n",
       "      <th>is_arrested</th>\n",
       "      <th>stop_duration</th>\n",
       "      <th>out_of_state</th>\n",
       "      <th>drugs_related_stop</th>\n",
       "      <th>district</th>\n",
       "      <th>frisk</th>\n",
       "    </tr>\n",
       "    <tr>\n",
       "      <th>stop_datetime</th>\n",
       "      <th></th>\n",
       "      <th></th>\n",
       "      <th></th>\n",
       "      <th></th>\n",
       "      <th></th>\n",
       "      <th></th>\n",
       "      <th></th>\n",
       "      <th></th>\n",
       "      <th></th>\n",
       "      <th></th>\n",
       "      <th></th>\n",
       "      <th></th>\n",
       "      <th></th>\n",
       "      <th></th>\n",
       "      <th></th>\n",
       "      <th></th>\n",
       "      <th></th>\n",
       "      <th></th>\n",
       "      <th></th>\n",
       "      <th></th>\n",
       "      <th></th>\n",
       "    </tr>\n",
       "  </thead>\n",
       "  <tbody>\n",
       "    <tr>\n",
       "      <th>2005-01-24 20:32:00</th>\n",
       "      <td>RI-2005-00010</td>\n",
       "      <td>Zone K1</td>\n",
       "      <td>600</td>\n",
       "      <td>M</td>\n",
       "      <td>1987.0</td>\n",
       "      <td>18.0</td>\n",
       "      <td>W</td>\n",
       "      <td>White</td>\n",
       "      <td>Speeding</td>\n",
       "      <td>Speeding</td>\n",
       "      <td>...</td>\n",
       "      <td>Probable Cause</td>\n",
       "      <td>Probable Cause</td>\n",
       "      <td>True</td>\n",
       "      <td>Citation</td>\n",
       "      <td>False</td>\n",
       "      <td>0-15 Min</td>\n",
       "      <td>True</td>\n",
       "      <td>True</td>\n",
       "      <td>Zone K1</td>\n",
       "      <td>False</td>\n",
       "    </tr>\n",
       "    <tr>\n",
       "      <th>2005-02-09 03:05:00</th>\n",
       "      <td>RI-2005-00011</td>\n",
       "      <td>Zone X4</td>\n",
       "      <td>500</td>\n",
       "      <td>M</td>\n",
       "      <td>1976.0</td>\n",
       "      <td>29.0</td>\n",
       "      <td>W</td>\n",
       "      <td>White</td>\n",
       "      <td>Registration Violation</td>\n",
       "      <td>Registration/plates</td>\n",
       "      <td>...</td>\n",
       "      <td>Probable Cause,Terry Frisk</td>\n",
       "      <td>Probable Cause,Protective Frisk</td>\n",
       "      <td>False</td>\n",
       "      <td>Citation</td>\n",
       "      <td>False</td>\n",
       "      <td>0-15 Min</td>\n",
       "      <td>False</td>\n",
       "      <td>False</td>\n",
       "      <td>Zone X4</td>\n",
       "      <td>True</td>\n",
       "    </tr>\n",
       "    <tr>\n",
       "      <th>2005-08-28 01:00:00</th>\n",
       "      <td>RI-2005-00084</td>\n",
       "      <td>Zone X1</td>\n",
       "      <td>0</td>\n",
       "      <td>M</td>\n",
       "      <td>1979.0</td>\n",
       "      <td>26.0</td>\n",
       "      <td>W</td>\n",
       "      <td>White</td>\n",
       "      <td>Other Traffic Violation</td>\n",
       "      <td>Moving violation</td>\n",
       "      <td>...</td>\n",
       "      <td>Incident to Arrest,Terry Frisk</td>\n",
       "      <td>Incident to Arrest,Protective Frisk</td>\n",
       "      <td>False</td>\n",
       "      <td>Arrest Driver</td>\n",
       "      <td>True</td>\n",
       "      <td>16-30 Min</td>\n",
       "      <td>True</td>\n",
       "      <td>False</td>\n",
       "      <td>Zone X1</td>\n",
       "      <td>True</td>\n",
       "    </tr>\n",
       "    <tr>\n",
       "      <th>2005-09-15 02:20:00</th>\n",
       "      <td>RI-2005-00094</td>\n",
       "      <td>Zone X4</td>\n",
       "      <td>500</td>\n",
       "      <td>M</td>\n",
       "      <td>1988.0</td>\n",
       "      <td>17.0</td>\n",
       "      <td>W</td>\n",
       "      <td>White</td>\n",
       "      <td>Other Traffic Violation</td>\n",
       "      <td>Moving violation</td>\n",
       "      <td>...</td>\n",
       "      <td>Incident to Arrest</td>\n",
       "      <td>Incident to Arrest</td>\n",
       "      <td>False</td>\n",
       "      <td>Arrest Driver</td>\n",
       "      <td>True</td>\n",
       "      <td>16-30 Min</td>\n",
       "      <td>False</td>\n",
       "      <td>False</td>\n",
       "      <td>Zone X4</td>\n",
       "      <td>False</td>\n",
       "    </tr>\n",
       "    <tr>\n",
       "      <th>2005-09-24 02:20:00</th>\n",
       "      <td>RI-2005-00115</td>\n",
       "      <td>Zone K3</td>\n",
       "      <td>300</td>\n",
       "      <td>M</td>\n",
       "      <td>1987.0</td>\n",
       "      <td>18.0</td>\n",
       "      <td>W</td>\n",
       "      <td>White</td>\n",
       "      <td>Other Traffic Violation</td>\n",
       "      <td>Moving violation</td>\n",
       "      <td>...</td>\n",
       "      <td>Incident to Arrest</td>\n",
       "      <td>Incident to Arrest</td>\n",
       "      <td>False</td>\n",
       "      <td>Arrest Driver</td>\n",
       "      <td>True</td>\n",
       "      <td>16-30 Min</td>\n",
       "      <td>False</td>\n",
       "      <td>False</td>\n",
       "      <td>Zone K3</td>\n",
       "      <td>False</td>\n",
       "    </tr>\n",
       "    <tr>\n",
       "      <th>...</th>\n",
       "      <td>...</td>\n",
       "      <td>...</td>\n",
       "      <td>...</td>\n",
       "      <td>...</td>\n",
       "      <td>...</td>\n",
       "      <td>...</td>\n",
       "      <td>...</td>\n",
       "      <td>...</td>\n",
       "      <td>...</td>\n",
       "      <td>...</td>\n",
       "      <td>...</td>\n",
       "      <td>...</td>\n",
       "      <td>...</td>\n",
       "      <td>...</td>\n",
       "      <td>...</td>\n",
       "      <td>...</td>\n",
       "      <td>...</td>\n",
       "      <td>...</td>\n",
       "      <td>...</td>\n",
       "      <td>...</td>\n",
       "      <td>...</td>\n",
       "    </tr>\n",
       "    <tr>\n",
       "      <th>2006-08-07 23:40:00</th>\n",
       "      <td>RI-2006-35738</td>\n",
       "      <td>Zone X3</td>\n",
       "      <td>200</td>\n",
       "      <td>F</td>\n",
       "      <td>1984.0</td>\n",
       "      <td>22.0</td>\n",
       "      <td>W</td>\n",
       "      <td>White</td>\n",
       "      <td>Call for Service</td>\n",
       "      <td>Other</td>\n",
       "      <td>...</td>\n",
       "      <td>Incident to Arrest</td>\n",
       "      <td>Incident to Arrest</td>\n",
       "      <td>False</td>\n",
       "      <td>Arrest Driver</td>\n",
       "      <td>True</td>\n",
       "      <td>16-30 Min</td>\n",
       "      <td>False</td>\n",
       "      <td>False</td>\n",
       "      <td>Zone X3</td>\n",
       "      <td>False</td>\n",
       "    </tr>\n",
       "    <tr>\n",
       "      <th>2006-08-08 00:15:00</th>\n",
       "      <td>RI-2006-35744</td>\n",
       "      <td>Zone K3</td>\n",
       "      <td>300</td>\n",
       "      <td>M</td>\n",
       "      <td>1971.0</td>\n",
       "      <td>35.0</td>\n",
       "      <td>W</td>\n",
       "      <td>White</td>\n",
       "      <td>Other Traffic Violation</td>\n",
       "      <td>Moving violation</td>\n",
       "      <td>...</td>\n",
       "      <td>Probable Cause,Terry Frisk</td>\n",
       "      <td>Probable Cause,Protective Frisk</td>\n",
       "      <td>True</td>\n",
       "      <td>Citation</td>\n",
       "      <td>False</td>\n",
       "      <td>16-30 Min</td>\n",
       "      <td>False</td>\n",
       "      <td>True</td>\n",
       "      <td>Zone K3</td>\n",
       "      <td>True</td>\n",
       "    </tr>\n",
       "    <tr>\n",
       "      <th>2006-08-08 00:15:00</th>\n",
       "      <td>RI-2006-35745</td>\n",
       "      <td>Zone X4</td>\n",
       "      <td>500</td>\n",
       "      <td>M</td>\n",
       "      <td>1971.0</td>\n",
       "      <td>35.0</td>\n",
       "      <td>W</td>\n",
       "      <td>White</td>\n",
       "      <td>Speeding</td>\n",
       "      <td>Speeding</td>\n",
       "      <td>...</td>\n",
       "      <td>Probable Cause,Terry Frisk</td>\n",
       "      <td>Probable Cause,Protective Frisk</td>\n",
       "      <td>True</td>\n",
       "      <td>Citation</td>\n",
       "      <td>False</td>\n",
       "      <td>16-30 Min</td>\n",
       "      <td>False</td>\n",
       "      <td>True</td>\n",
       "      <td>Zone X4</td>\n",
       "      <td>True</td>\n",
       "    </tr>\n",
       "    <tr>\n",
       "      <th>2006-08-08 00:40:00</th>\n",
       "      <td>RI-2006-35750</td>\n",
       "      <td>Zone K3</td>\n",
       "      <td>300</td>\n",
       "      <td>M</td>\n",
       "      <td>1986.0</td>\n",
       "      <td>20.0</td>\n",
       "      <td>H</td>\n",
       "      <td>Hispanic</td>\n",
       "      <td>Registration Violation</td>\n",
       "      <td>Registration/plates</td>\n",
       "      <td>...</td>\n",
       "      <td>Incident to Arrest</td>\n",
       "      <td>Incident to Arrest</td>\n",
       "      <td>False</td>\n",
       "      <td>Arrest Driver</td>\n",
       "      <td>True</td>\n",
       "      <td>30+ Min</td>\n",
       "      <td>False</td>\n",
       "      <td>False</td>\n",
       "      <td>Zone K3</td>\n",
       "      <td>False</td>\n",
       "    </tr>\n",
       "    <tr>\n",
       "      <th>2006-08-08 22:22:00</th>\n",
       "      <td>RI-2006-35912</td>\n",
       "      <td>Zone K3</td>\n",
       "      <td>300</td>\n",
       "      <td>M</td>\n",
       "      <td>1957.0</td>\n",
       "      <td>49.0</td>\n",
       "      <td>W</td>\n",
       "      <td>White</td>\n",
       "      <td>APB</td>\n",
       "      <td>Other</td>\n",
       "      <td>...</td>\n",
       "      <td>Incident to Arrest,Terry Frisk</td>\n",
       "      <td>Incident to Arrest,Protective Frisk</td>\n",
       "      <td>False</td>\n",
       "      <td>Arrest Driver</td>\n",
       "      <td>True</td>\n",
       "      <td>0-15 Min</td>\n",
       "      <td>False</td>\n",
       "      <td>False</td>\n",
       "      <td>Zone K3</td>\n",
       "      <td>True</td>\n",
       "    </tr>\n",
       "  </tbody>\n",
       "</table>\n",
       "<p>2012 rows × 21 columns</p>\n",
       "</div>"
      ],
      "text/plain": [
       "                                id location_raw police_department  \\\n",
       "stop_datetime                                                       \n",
       "2005-01-24 20:32:00  RI-2005-00010      Zone K1               600   \n",
       "2005-02-09 03:05:00  RI-2005-00011      Zone X4               500   \n",
       "2005-08-28 01:00:00  RI-2005-00084      Zone X1                 0   \n",
       "2005-09-15 02:20:00  RI-2005-00094      Zone X4               500   \n",
       "2005-09-24 02:20:00  RI-2005-00115      Zone K3               300   \n",
       "...                            ...          ...               ...   \n",
       "2006-08-07 23:40:00  RI-2006-35738      Zone X3               200   \n",
       "2006-08-08 00:15:00  RI-2006-35744      Zone K3               300   \n",
       "2006-08-08 00:15:00  RI-2006-35745      Zone X4               500   \n",
       "2006-08-08 00:40:00  RI-2006-35750      Zone K3               300   \n",
       "2006-08-08 22:22:00  RI-2006-35912      Zone K3               300   \n",
       "\n",
       "                    driver_gender  driver_age_raw  driver_age driver_race_raw  \\\n",
       "stop_datetime                                                                   \n",
       "2005-01-24 20:32:00             M          1987.0        18.0               W   \n",
       "2005-02-09 03:05:00             M          1976.0        29.0               W   \n",
       "2005-08-28 01:00:00             M          1979.0        26.0               W   \n",
       "2005-09-15 02:20:00             M          1988.0        17.0               W   \n",
       "2005-09-24 02:20:00             M          1987.0        18.0               W   \n",
       "...                           ...             ...         ...             ...   \n",
       "2006-08-07 23:40:00             F          1984.0        22.0               W   \n",
       "2006-08-08 00:15:00             M          1971.0        35.0               W   \n",
       "2006-08-08 00:15:00             M          1971.0        35.0               W   \n",
       "2006-08-08 00:40:00             M          1986.0        20.0               H   \n",
       "2006-08-08 22:22:00             M          1957.0        49.0               W   \n",
       "\n",
       "                    driver_race            violation_raw            violation  \\\n",
       "stop_datetime                                                                   \n",
       "2005-01-24 20:32:00       White                 Speeding             Speeding   \n",
       "2005-02-09 03:05:00       White   Registration Violation  Registration/plates   \n",
       "2005-08-28 01:00:00       White  Other Traffic Violation     Moving violation   \n",
       "2005-09-15 02:20:00       White  Other Traffic Violation     Moving violation   \n",
       "2005-09-24 02:20:00       White  Other Traffic Violation     Moving violation   \n",
       "...                         ...                      ...                  ...   \n",
       "2006-08-07 23:40:00       White         Call for Service                Other   \n",
       "2006-08-08 00:15:00       White  Other Traffic Violation     Moving violation   \n",
       "2006-08-08 00:15:00       White                 Speeding             Speeding   \n",
       "2006-08-08 00:40:00    Hispanic   Registration Violation  Registration/plates   \n",
       "2006-08-08 22:22:00       White                      APB                Other   \n",
       "\n",
       "                     ...                 search_type_raw  \\\n",
       "stop_datetime        ...                                   \n",
       "2005-01-24 20:32:00  ...                  Probable Cause   \n",
       "2005-02-09 03:05:00  ...      Probable Cause,Terry Frisk   \n",
       "2005-08-28 01:00:00  ...  Incident to Arrest,Terry Frisk   \n",
       "2005-09-15 02:20:00  ...              Incident to Arrest   \n",
       "2005-09-24 02:20:00  ...              Incident to Arrest   \n",
       "...                  ...                             ...   \n",
       "2006-08-07 23:40:00  ...              Incident to Arrest   \n",
       "2006-08-08 00:15:00  ...      Probable Cause,Terry Frisk   \n",
       "2006-08-08 00:15:00  ...      Probable Cause,Terry Frisk   \n",
       "2006-08-08 00:40:00  ...              Incident to Arrest   \n",
       "2006-08-08 22:22:00  ...  Incident to Arrest,Terry Frisk   \n",
       "\n",
       "                                             search_type contraband_found  \\\n",
       "stop_datetime                                                               \n",
       "2005-01-24 20:32:00                       Probable Cause             True   \n",
       "2005-02-09 03:05:00      Probable Cause,Protective Frisk            False   \n",
       "2005-08-28 01:00:00  Incident to Arrest,Protective Frisk            False   \n",
       "2005-09-15 02:20:00                   Incident to Arrest            False   \n",
       "2005-09-24 02:20:00                   Incident to Arrest            False   \n",
       "...                                                  ...              ...   \n",
       "2006-08-07 23:40:00                   Incident to Arrest            False   \n",
       "2006-08-08 00:15:00      Probable Cause,Protective Frisk             True   \n",
       "2006-08-08 00:15:00      Probable Cause,Protective Frisk             True   \n",
       "2006-08-08 00:40:00                   Incident to Arrest            False   \n",
       "2006-08-08 22:22:00  Incident to Arrest,Protective Frisk            False   \n",
       "\n",
       "                      stop_outcome is_arrested  stop_duration out_of_state  \\\n",
       "stop_datetime                                                                \n",
       "2005-01-24 20:32:00       Citation       False       0-15 Min         True   \n",
       "2005-02-09 03:05:00       Citation       False       0-15 Min        False   \n",
       "2005-08-28 01:00:00  Arrest Driver        True      16-30 Min         True   \n",
       "2005-09-15 02:20:00  Arrest Driver        True      16-30 Min        False   \n",
       "2005-09-24 02:20:00  Arrest Driver        True      16-30 Min        False   \n",
       "...                            ...         ...            ...          ...   \n",
       "2006-08-07 23:40:00  Arrest Driver        True      16-30 Min        False   \n",
       "2006-08-08 00:15:00       Citation       False      16-30 Min        False   \n",
       "2006-08-08 00:15:00       Citation       False      16-30 Min        False   \n",
       "2006-08-08 00:40:00  Arrest Driver        True        30+ Min        False   \n",
       "2006-08-08 22:22:00  Arrest Driver        True       0-15 Min        False   \n",
       "\n",
       "                    drugs_related_stop  district  frisk  \n",
       "stop_datetime                                            \n",
       "2005-01-24 20:32:00               True   Zone K1  False  \n",
       "2005-02-09 03:05:00              False   Zone X4   True  \n",
       "2005-08-28 01:00:00              False   Zone X1   True  \n",
       "2005-09-15 02:20:00              False   Zone X4  False  \n",
       "2005-09-24 02:20:00              False   Zone K3  False  \n",
       "...                                ...       ...    ...  \n",
       "2006-08-07 23:40:00              False   Zone X3  False  \n",
       "2006-08-08 00:15:00               True   Zone K3   True  \n",
       "2006-08-08 00:15:00               True   Zone X4   True  \n",
       "2006-08-08 00:40:00              False   Zone K3  False  \n",
       "2006-08-08 22:22:00              False   Zone K3   True  \n",
       "\n",
       "[2012 rows x 21 columns]"
      ]
     },
     "execution_count": 36,
     "metadata": {},
     "output_type": "execute_result"
    }
   ],
   "source": [
    "searched"
   ]
  },
  {
   "cell_type": "code",
   "execution_count": 37,
   "metadata": {},
   "outputs": [
    {
     "data": {
      "text/plain": [
       "0.20029821073558648"
      ]
     },
     "execution_count": 37,
     "metadata": {},
     "output_type": "execute_result"
    }
   ],
   "source": [
    "searched.frisk.mean()"
   ]
  },
  {
   "cell_type": "code",
   "execution_count": 39,
   "metadata": {},
   "outputs": [
    {
     "data": {
      "text/plain": [
       "driver_gender\n",
       "F    0.164557\n",
       "M    0.205070\n",
       "Name: frisk, dtype: float64"
      ]
     },
     "execution_count": 39,
     "metadata": {},
     "output_type": "execute_result"
    }
   ],
   "source": [
    "searched.groupby('driver_gender').frisk.mean()"
   ]
  },
  {
   "cell_type": "code",
   "execution_count": null,
   "metadata": {},
   "outputs": [],
   "source": []
  }
 ],
 "metadata": {
  "kernelspec": {
   "display_name": "Python 3",
   "language": "python",
   "name": "python3"
  },
  "language_info": {
   "codemirror_mode": {
    "name": "ipython",
    "version": 3
   },
   "file_extension": ".py",
   "mimetype": "text/x-python",
   "name": "python",
   "nbconvert_exporter": "python",
   "pygments_lexer": "ipython3",
   "version": "3.7.6"
  }
 },
 "nbformat": 4,
 "nbformat_minor": 4
}
